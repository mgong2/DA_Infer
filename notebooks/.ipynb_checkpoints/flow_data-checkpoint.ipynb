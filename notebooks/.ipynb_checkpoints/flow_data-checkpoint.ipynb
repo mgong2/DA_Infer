{
 "cells": [
  {
   "cell_type": "markdown",
   "metadata": {},
   "source": [
    "# Process flow data\n",
    "load and plot flow data, check the accuracy"
   ]
  },
  {
   "cell_type": "markdown",
   "metadata": {},
   "source": [
    "## Set up, load data"
   ]
  },
  {
   "cell_type": "code",
   "execution_count": 5,
   "metadata": {},
   "outputs": [],
   "source": [
    "import numpy as np\n",
    "import matplotlib\n",
    "import matplotlib.pyplot as plt\n",
    "import sys\n",
    "sys.path.append('../')\n",
    "from src.gan_models import *\n",
    "from shutil import rmtree\n",
    "from shutil import copyfile\n",
    "import itertools\n",
    "import random\n",
    "from sklearn import svm\n",
    "from scipy.io import savemat\n",
    "from scipy.io import loadmat\n",
    "from sklearn.neighbors import KernelDensity\n",
    "from sklearn.model_selection import cross_val_score\n",
    "from os.path import join\n",
    "import seaborn as sns\n",
    "sns.set_style(\"darkgrid\")\n",
    "import src.utils as utils\n"
   ]
  },
  {
   "cell_type": "markdown",
   "metadata": {},
   "source": [
    "Process Petar's Matlab data"
   ]
  },
  {
   "cell_type": "code",
   "execution_count": null,
   "metadata": {},
   "outputs": [],
   "source": [
    "import os\n",
    "from scipy.io import loadmat\n",
    "from scipy import stats\n",
    "\n",
    "num_domain = 6\n",
    "sample_size = 500\n",
    "num_class = 2\n",
    "mat_path = '../datasets/flow_data/unnorm_balanced'\n",
    "npz_path = '../datasets/flow_data/unnorm_balanced'\n",
    "label_d = np.repeat(np.arange(num_domain), sample_size).T.reshape(sample_size * num_domain, 1)\n",
    "label_y = np.matlib.repmat(np.repeat(np.arange(num_class), sample_size / num_class), 1, num_domain).T\n",
    "y = np.concatenate((label_y, label_d), 1)\n",
    "\n",
    "for i in range(28):\n",
    "    train_mat_path = os.path.join(mat_path, 'flowtrain_%d_500_neqy_unnorm.mat'%(i+1))\n",
    "    test_mat_path = os.path.join(mat_path, 'flowtest_%d_500_neqy_unnorm.mat'%(i+1))\n",
    "    train_mat = loadmat(train_mat_path)\n",
    "    test_mat = loadmat(test_mat_path)\n",
    "    x = train_mat['DATA'][0][0].T\n",
    "    for j in range(num_domain-2):\n",
    "        x_train = train_mat['DATA'][0][j+1].T\n",
    "        x = np.concatenate((x, x_train), 0)\n",
    "    x_test = test_mat['DATA'][0][0].T\n",
    "    x = np.concatenate((x, x_test), 0)\n",
    "    x = stats.zscore(x)\n",
    "    full_path = os.path.join(npz_path, 'flow_%d_500_neqy_unnorm.npz'%(i))\n",
    "    np.savez(full_path, x=x, y=y)\n"
   ]
  }
 ],
 "metadata": {
  "kernelspec": {
   "display_name": "Python 3",
   "language": "python",
   "name": "python3"
  },
  "language_info": {
   "codemirror_mode": {
    "name": "ipython",
    "version": 3
   },
   "file_extension": ".py",
   "mimetype": "text/x-python",
   "name": "python",
   "nbconvert_exporter": "python",
   "pygments_lexer": "ipython3",
   "version": "3.7.7"
  }
 },
 "nbformat": 4,
 "nbformat_minor": 2
}
