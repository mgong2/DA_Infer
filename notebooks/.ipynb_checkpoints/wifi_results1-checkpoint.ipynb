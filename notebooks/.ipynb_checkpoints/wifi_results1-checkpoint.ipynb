{
 "cells": [
  {
   "cell_type": "markdown",
   "metadata": {},
   "source": [
    "# Summarize wifi results"
   ]
  },
  {
   "cell_type": "code",
   "execution_count": 4,
   "metadata": {},
   "outputs": [],
   "source": [
    "import torch\n",
    "import numpy as np"
   ]
  },
  {
   "cell_type": "markdown",
   "metadata": {},
   "source": [
    "tot1"
   ]
  },
  {
   "cell_type": "code",
   "execution_count": 11,
   "metadata": {},
   "outputs": [
    {
     "name": "stdout",
     "output_type": "stream",
     "text": [
      "poolNN\n",
      "0.44288565946598213 0.020894910050682978\n",
      "0.38844756112446827 0.02086963521905495\n",
      "JMMD\n",
      "0.45764487079925675 0.022054343715207193\n",
      "0.43218179542286306 0.019986072785455094\n",
      "JMM_DAG\n",
      "0.4555635799580838 0.024134913257665837\n",
      "0.4186122034012321 0.030024850302709183\n",
      "JMMD_DAG\n",
      "0.4515743909593656 0.020642778242433348\n",
      "0.4115586819007856 0.015064046021167728\n"
     ]
    }
   ],
   "source": [
    "num_rep = 10\n",
    "acc_best = np.zeros(num_rep)\n",
    "acc_final = np.zeros(num_rep)\n",
    "\n",
    "for i in range(num_rep):\n",
    "    file_name = '../weights/DatasetWifi/_tarId1_seed%d_idim17_DA_Poolnn_ML_warmup200_MLP_Generator_MLP_Classifier_AC_weight1.00_TAR_weight0.20_useMB1_mlp_nodes20_bs210_Glr2.0e-03_Dlr2.0e-03_numDomain3_dimDomain1_dimHidden17_state.pkl' % (i+1)\n",
    "    x = torch.load(file_name)\n",
    "    acc_best[i] = x['best_score']\n",
    "    acc_final[i] = x['final_score']\n",
    "print('poolNN')\n",
    "print(acc_best.mean(), acc_best.std())\n",
    "print(acc_final.mean(), acc_final.std())\n",
    "\n",
    "for i in range(num_rep):\n",
    "    file_name = '../weights/DatasetWifi/_tarId1_seed%d_idim17_DA_Infer_JMMD_ML_warmup200_MLP_Generator_MLP_Classifier_AC_weight1.00_TAR_weight0.20_useMB1_mlp_nodes20_bs210_Glr2.0e-03_Dlr2.0e-03_numDomain3_dimDomain1_dimHidden17_state.pkl' % (i+1)\n",
    "    x = torch.load(file_name)\n",
    "    acc_best[i] = x['best_score']\n",
    "    acc_final[i] = x['final_score']\n",
    "print('JMMD')\n",
    "print(acc_best.mean(), acc_best.std())\n",
    "print(acc_final.mean(), acc_final.std())\n",
    "\n",
    "for i in range(num_rep):\n",
    "    file_name = '../weights/DatasetWifi/_tarId1_seed%d_idim17_DA_Infer_JMMD_DAG_m1_ML_warmup200_gp10.00_sn0_DAG_Generator_MLP_Classifier_Diter1_AC_weight1.00_SRC_weight1.00_TAR_weight0.20_useMB1_mlp_nodes20_bs210_Glr2.0e-03_Dlr2.0e-03_numDomain3_dimDomain1_dimHidden1_state.pkl' % (i+1)\n",
    "    x = torch.load(file_name)\n",
    "    acc_best[i] = x['best_score']\n",
    "    acc_final[i] = x['final_score']\n",
    "print('JMM_DAG')\n",
    "print(acc_best.mean(), acc_best.std())\n",
    "print(acc_final.mean(), acc_final.std())\n",
    "\n",
    "for i in range(num_rep):\n",
    "    file_name = '../weights/DatasetWifi/_tarId1_seed%d_idim17_DA_Infer_JMMD_DAG_ML_warmup200_PDAG_Generator_MLP_Classifier_AC_weight1.00_TAR_weight0.20_useMB1_mlp_nodes20_bs210_Glr2.0e-03_Dlr2.0e-03_numDomain3_dimDomain1_dimHidden1_state.pkl' % (i+1)\n",
    "    x = torch.load(file_name)\n",
    "    acc_best[i] = x['best_score']\n",
    "    acc_final[i] = x['final_score']\n",
    "print('JMMD_DAG')\n",
    "print(acc_best.mean(), acc_best.std())\n",
    "print(acc_final.mean(), acc_final.std())"
   ]
  },
  {
   "cell_type": "markdown",
   "metadata": {},
   "source": [
    "tot2"
   ]
  },
  {
   "cell_type": "code",
   "execution_count": 15,
   "metadata": {},
   "outputs": [
    {
     "name": "stdout",
     "output_type": "stream",
     "text": [
      "poolNN\n",
      "0.46087077428005035 0.034802856627661055\n",
      "0.36260250441396946 0.027985622617256626\n",
      "JMMD\n",
      "0.47097529301375596 0.050520309737478494\n",
      "0.4264494769424931 0.05700493226554852\n",
      "JMM_DAG\n",
      "0.46859216900468265 0.03441041470728024\n",
      "0.3580530761447246 0.04162150993734839\n",
      "JMMD_DAG\n",
      "0.463213579280268 0.032877042760163844\n",
      "0.3729577771972435 0.039862812343788516\n"
     ]
    }
   ],
   "source": [
    "num_rep = 10\n",
    "acc_best = np.zeros(num_rep)\n",
    "acc_final = np.zeros(num_rep)\n",
    "\n",
    "for i in range(num_rep):\n",
    "    file_name = '../weights/DatasetWifi/_tarId2_seed%d_idim16_DA_Poolnn_ML_warmup200_MLP_Generator_MLP_Classifier_AC_weight1.00_TAR_weight0.20_useMB1_mlp_nodes20_bs210_Glr2.0e-03_Dlr2.0e-03_numDomain3_dimDomain1_dimHidden16_state.pkl' % (i+1)\n",
    "    x = torch.load(file_name)\n",
    "    acc_best[i] = x['best_score']\n",
    "    acc_final[i] = x['final_score']\n",
    "print('poolNN')\n",
    "print(acc_best.mean(), acc_best.std())\n",
    "print(acc_final.mean(), acc_final.std())\n",
    "\n",
    "for i in range(num_rep):\n",
    "    file_name = '../weights/DatasetWifi/_tarId2_seed%d_idim16_DA_Infer_JMMD_ML_warmup200_MLP_Generator_MLP_Classifier_AC_weight1.00_TAR_weight0.20_useMB1_mlp_nodes20_bs210_Glr2.0e-03_Dlr2.0e-03_numDomain3_dimDomain1_dimHidden16_state.pkl' % (i+1)\n",
    "    x = torch.load(file_name)\n",
    "    acc_best[i] = x['best_score']\n",
    "    acc_final[i] = x['final_score']\n",
    "print('JMMD')\n",
    "print(acc_best.mean(), acc_best.std())\n",
    "print(acc_final.mean(), acc_final.std())\n",
    "\n",
    "for i in range(num_rep):\n",
    "    file_name = '../weights/DatasetWifi/_tarId2_seed%d_idim16_DA_Infer_JMMD_DAG_m1_ML_warmup200_gp10.00_sn0_DAG_Generator_MLP_Classifier_Diter1_AC_weight1.00_SRC_weight1.00_TAR_weight0.20_useMB1_mlp_nodes20_bs210_Glr2.0e-03_Dlr2.0e-03_numDomain3_dimDomain1_dimHidden1_state.pkl' % (i+1)\n",
    "    x = torch.load(file_name)\n",
    "    acc_best[i] = x['best_score']\n",
    "    acc_final[i] = x['final_score']\n",
    "print('JMMD_DAG')\n",
    "print(acc_best.mean(), acc_best.std())\n",
    "print(acc_final.mean(), acc_final.std())\n",
    "\n",
    "for i in range(num_rep):\n",
    "    file_name = '../weights/DatasetWifi/_tarId2_seed%d_idim16_DA_Infer_JMMD_DAG_ML_warmup200_PDAG_Generator_MLP_Classifier_AC_weight1.00_TAR_weight0.20_useMB1_mlp_nodes20_bs210_Glr2.0e-03_Dlr2.0e-03_numDomain3_dimDomain1_dimHidden1_state.pkl' % (i+1)\n",
    "    x = torch.load(file_name)\n",
    "    acc_best[i] = x['best_score']\n",
    "    acc_final[i] = x['final_score']\n",
    "print('JMMD_DAG')\n",
    "print(acc_best.mean(), acc_best.std())\n",
    "print(acc_final.mean(), acc_final.std())"
   ]
  },
  {
   "cell_type": "markdown",
   "metadata": {},
   "source": [
    "tot3"
   ]
  },
  {
   "cell_type": "code",
   "execution_count": 17,
   "metadata": {},
   "outputs": [
    {
     "name": "stdout",
     "output_type": "stream",
     "text": [
      "poolNN\n",
      "0.4044003320266933 0.021106772229728354\n",
      "0.37005292345326596 0.02121543081464533\n",
      "JMMD\n",
      "0.43818185852417174 0.03216136572554337\n",
      "0.4072916733522164 0.029202692128646568\n",
      "JMMD_DAG\n",
      "0.3861774494759768 0.0314601210944744\n",
      "0.34022227528695614 0.03634783138695622\n",
      "JMMD_DAG\n",
      "0.4042683062328097 0.023116424966342992\n",
      "0.3647919706716461 0.03706208766988439\n"
     ]
    }
   ],
   "source": [
    "num_rep = 10\n",
    "acc_best = np.zeros(num_rep)\n",
    "acc_final = np.zeros(num_rep)\n",
    "\n",
    "for i in range(num_rep):\n",
    "    file_name = '../weights/DatasetWifi/_tarId3_seed%d_idim16_DA_Poolnn_ML_warmup200_MLP_Generator_MLP_Classifier_AC_weight1.00_TAR_weight0.20_useMB1_mlp_nodes20_bs210_Glr2.0e-03_Dlr2.0e-03_numDomain3_dimDomain1_dimHidden16_state.pkl' % (i+1)\n",
    "    x = torch.load(file_name)\n",
    "    acc_best[i] = x['best_score']\n",
    "    acc_final[i] = x['final_score']\n",
    "print('poolNN')\n",
    "print(acc_best.mean(), acc_best.std())\n",
    "print(acc_final.mean(), acc_final.std())\n",
    "\n",
    "for i in range(num_rep):\n",
    "    file_name = '../weights/DatasetWifi/_tarId3_seed%d_idim16_DA_Infer_JMMD_ML_warmup200_MLP_Generator_MLP_Classifier_AC_weight1.00_TAR_weight0.20_useMB1_mlp_nodes20_bs210_Glr2.0e-03_Dlr2.0e-03_numDomain3_dimDomain1_dimHidden16_state.pkl' % (i+1)\n",
    "    x = torch.load(file_name)\n",
    "    acc_best[i] = x['best_score']\n",
    "    acc_final[i] = x['final_score']\n",
    "print('JMMD')\n",
    "print(acc_best.mean(), acc_best.std())\n",
    "print(acc_final.mean(), acc_final.std())\n",
    "\n",
    "for i in range(num_rep):\n",
    "    file_name = '../weights/DatasetWifi/_tarId3_seed%d_idim16_DA_Infer_JMMD_DAG_m1_ML_warmup200_gp10.00_sn0_DAG_Generator_MLP_Classifier_Diter1_AC_weight1.00_SRC_weight1.00_TAR_weight0.20_useMB1_mlp_nodes20_bs210_Glr2.0e-03_Dlr2.0e-03_numDomain3_dimDomain1_dimHidden1_state.pkl' % (i+1)\n",
    "    x = torch.load(file_name)\n",
    "    acc_best[i] = x['best_score']\n",
    "    acc_final[i] = x['final_score']\n",
    "print('JMMD_DAG')\n",
    "print(acc_best.mean(), acc_best.std())\n",
    "print(acc_final.mean(), acc_final.std())\n",
    "\n",
    "for i in range(num_rep):\n",
    "    file_name = '../weights/DatasetWifi/_tarId3_seed%d_idim16_DA_Infer_JMMD_DAG_ML_warmup200_PDAG_Generator_MLP_Classifier_AC_weight1.00_TAR_weight0.20_useMB1_mlp_nodes20_bs210_Glr2.0e-03_Dlr2.0e-03_numDomain3_dimDomain1_dimHidden1_state.pkl' % (i+1)\n",
    "    x = torch.load(file_name)\n",
    "    acc_best[i] = x['best_score']\n",
    "    acc_final[i] = x['final_score']\n",
    "print('JMMD_DAG')\n",
    "print(acc_best.mean(), acc_best.std())\n",
    "print(acc_final.mean(), acc_final.std())"
   ]
  }
 ],
 "metadata": {
  "kernelspec": {
   "display_name": "Python 3",
   "language": "python",
   "name": "python3"
  },
  "language_info": {
   "codemirror_mode": {
    "name": "ipython",
    "version": 3
   },
   "file_extension": ".py",
   "mimetype": "text/x-python",
   "name": "python",
   "nbconvert_exporter": "python",
   "pygments_lexer": "ipython3",
   "version": "3.7.7"
  }
 },
 "nbformat": 4,
 "nbformat_minor": 4
}
