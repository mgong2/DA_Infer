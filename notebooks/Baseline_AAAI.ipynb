{
 "cells": [
  {
   "cell_type": "code",
   "execution_count": 1,
   "metadata": {},
   "outputs": [],
   "source": [
    "import numpy as np\n",
    "import scipy.io as sio"
   ]
  },
  {
   "cell_type": "code",
   "execution_count": 40,
   "metadata": {},
   "outputs": [
    {
     "name": "stdout",
     "output_type": "stream",
     "text": [
      "0.9945999999999999\n",
      "0.010809255293497336\n",
      "0.9666\n",
      "0.05186945151049893\n",
      "0.7303999999999999\n",
      "0.22640636033468672\n",
      "0.9077999999999999\n",
      "0.1329675148297508\n"
     ]
    }
   ],
   "source": [
    "x = sio.loadmat('/Users/mgong/gitProjects/bayesian_GAN_for_Mingming/sim2_AAAI_fresh_environment.mat')\n",
    "acc = x['temp_accuracy']\n",
    "accs = np.zeros((10, 8))\n",
    "for j in [0, 5, 6, 7]:\n",
    "    for i in range(10):\n",
    "        accs[i,j] = acc[i,:,j].max()\n",
    "\n",
    "    print(accs[:,j].mean())\n",
    "    print(accs[:,j].std())"
   ]
  },
  {
   "cell_type": "code",
   "execution_count": 41,
   "metadata": {},
   "outputs": [
    {
     "name": "stdout",
     "output_type": "stream",
     "text": [
      "0.7442\n",
      "0.31974921422890157\n",
      "0.7266\n",
      "0.24029989596335657\n",
      "0.5644\n",
      "0.3501643042915711\n",
      "0.6896\n",
      "0.30015969083139726\n"
     ]
    }
   ],
   "source": [
    "x = sio.loadmat('/Users/mgong/gitProjects/bayesian_GAN_for_Mingming/sim5_AAAI_fresh_environment.mat')\n",
    "acc = x['temp_accuracy']\n",
    "accs = np.zeros((10, 8))\n",
    "for j in [0, 5, 6, 7]:\n",
    "    for i in range(10):\n",
    "        accs[i,j] = acc[i,:,j].max()\n",
    "\n",
    "    print(accs[:,j].mean())\n",
    "    print(accs[:,j].std())"
   ]
  },
  {
   "cell_type": "code",
   "execution_count": 43,
   "metadata": {},
   "outputs": [
    {
     "name": "stdout",
     "output_type": "stream",
     "text": [
      "0.5312\n",
      "0.3531234345098042\n",
      "0.5208\n",
      "0.26407453493284805\n",
      "0.3724\n",
      "0.32029461437869977\n",
      "0.5738\n",
      "0.2725324934755487\n"
     ]
    }
   ],
   "source": [
    "x = sio.loadmat('/Users/mgong/gitProjects/bayesian_GAN_for_Mingming/sim10_AAAI_fresh_environment.mat')\n",
    "acc = x['temp_accuracy']\n",
    "accs = np.zeros((10, 8))\n",
    "for j in [0, 5, 6, 7]:\n",
    "    for i in range(10):\n",
    "        accs[i,j] = acc[i,:,j].max()\n",
    "\n",
    "    print(accs[:,j].mean())\n",
    "    print(accs[:,j].std())"
   ]
  },
  {
   "cell_type": "code",
   "execution_count": 45,
   "metadata": {},
   "outputs": [
    {
     "name": "stdout",
     "output_type": "stream",
     "text": [
      "0.8215000000000001\n",
      "0.10988906744011046\n",
      "0.8419285714285714\n",
      "0.09346730848324478\n",
      "0.8422857142857145\n",
      "0.10063046157063164\n",
      "0.8452857142857143\n",
      "0.0990500800976301\n"
     ]
    }
   ],
   "source": [
    "x = sio.loadmat('/Users/mgong/gitProjects/bayesian_GAN_for_Mingming/flow3_AAAI_fresh_environment.mat')\n",
    "acc = x['temp_accuracy']\n",
    "accs = np.zeros((28, 8))\n",
    "for j in [0, 5, 6, 7]:\n",
    "    for i in range(28):\n",
    "        accs[i,j] = acc[i,:,j].max()\n",
    "\n",
    "    print(accs[:,j].mean())\n",
    "    print(accs[:,j].std())"
   ]
  }
 ],
 "metadata": {
  "kernelspec": {
   "display_name": "Python 3",
   "language": "python",
   "name": "python3"
  },
  "language_info": {
   "codemirror_mode": {
    "name": "ipython",
    "version": 3
   },
   "file_extension": ".py",
   "mimetype": "text/x-python",
   "name": "python",
   "nbconvert_exporter": "python",
   "pygments_lexer": "ipython3",
   "version": "3.7.7"
  }
 },
 "nbformat": 4,
 "nbformat_minor": 4
}
