{
 "cells": [
  {
   "cell_type": "code",
   "execution_count": 1,
   "metadata": {},
   "outputs": [],
   "source": [
    "import numpy as np\n",
    "import scipy.io as sio"
   ]
  },
  {
   "cell_type": "code",
   "execution_count": 12,
   "metadata": {},
   "outputs": [
    {
     "name": "stdout",
     "output_type": "stream",
     "text": [
      "100.0\n",
      "0.0\n"
     ]
    }
   ],
   "source": [
    "x = sio.loadmat('/Users/mgong/gitProjects/bayesian_GAN_for_Mingming/simu2_blanchard_environment_fresh.mat')\n",
    "acc = x['temp_accuracies']\n",
    "accs = np.zeros(10)\n",
    "for i in range(10):\n",
    "    accs[i] = acc[i].max()\n",
    "\n",
    "print(accs.mean())\n",
    "print(accs.std())"
   ]
  },
  {
   "cell_type": "code",
   "execution_count": 13,
   "metadata": {},
   "outputs": [
    {
     "name": "stdout",
     "output_type": "stream",
     "text": [
      "50.0\n",
      "50.0\n"
     ]
    }
   ],
   "source": [
    "x = sio.loadmat('/Users/mgong/gitProjects/bayesian_GAN_for_Mingming/simu5_blanchard_environment_fresh.mat')\n",
    "acc = x['temp_accuracies']\n",
    "accs = np.zeros(10)\n",
    "for i in range(10):\n",
    "    accs[i] = acc[i].max()\n",
    "\n",
    "print(accs.mean())\n",
    "print(accs.std())"
   ]
  },
  {
   "cell_type": "code",
   "execution_count": 15,
   "metadata": {},
   "outputs": [
    {
     "name": "stdout",
     "output_type": "stream",
     "text": [
      "80.0\n",
      "40.0\n"
     ]
    }
   ],
   "source": [
    "x = sio.loadmat('/Users/mgong/gitProjects/bayesian_GAN_for_Mingming/simu9_blanchard_environment_fresh.mat')\n",
    "acc = x['temp_accuracies']\n",
    "accs = np.zeros(10)\n",
    "for i in range(10):\n",
    "    accs[i] = acc[i].max()\n",
    "\n",
    "print(accs.mean())\n",
    "print(accs.std())"
   ]
  },
  {
   "cell_type": "code",
   "execution_count": 24,
   "metadata": {},
   "outputs": [
    {
     "name": "stdout",
     "output_type": "stream",
     "text": [
      "92.33571428571427\n",
      "6.432962785846161\n"
     ]
    }
   ],
   "source": [
    "x = sio.loadmat('/Users/mgong/gitProjects/bayesian_GAN_for_Mingming/flow3_blanchard_environment_fresh.mat')\n",
    "acc = x['temp_accuracies']\n",
    "accs = np.zeros(28)\n",
    "for i in range(28):\n",
    "    accs[i] = acc[:,:,i].max()\n",
    "\n",
    "print(accs.mean())\n",
    "print(accs.std())"
   ]
  },
  {
   "cell_type": "code",
   "execution_count": 23,
   "metadata": {},
   "outputs": [
    {
     "data": {
      "text/plain": [
       "(6, 6, 28)"
      ]
     },
     "execution_count": 23,
     "metadata": {},
     "output_type": "execute_result"
    }
   ],
   "source": [
    "acc.shape"
   ]
  }
 ],
 "metadata": {
  "kernelspec": {
   "display_name": "Python 3",
   "language": "python",
   "name": "python3"
  },
  "language_info": {
   "codemirror_mode": {
    "name": "ipython",
    "version": 3
   },
   "file_extension": ".py",
   "mimetype": "text/x-python",
   "name": "python",
   "nbconvert_exporter": "python",
   "pygments_lexer": "ipython3",
   "version": "3.7.7"
  }
 },
 "nbformat": 4,
 "nbformat_minor": 4
}
