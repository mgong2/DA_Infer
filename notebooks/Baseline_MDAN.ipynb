{
 "cells": [
  {
   "cell_type": "code",
   "execution_count": 11,
   "metadata": {},
   "outputs": [],
   "source": [
    "import torch\n",
    "import numpy as np\n",
    "import pickle"
   ]
  },
  {
   "cell_type": "markdown",
   "metadata": {},
   "source": [
    "wifi data"
   ]
  },
  {
   "cell_type": "code",
   "execution_count": 32,
   "metadata": {},
   "outputs": [
    {
     "name": "stdout",
     "output_type": "stream",
     "text": [
      "0.40700000000000003 0.04551496726240675\n",
      "0.4094285714285714 0.04812059680360056\n",
      "0.4152857142857142 0.04354706578835718\n"
     ]
    }
   ],
   "source": [
    "acc_tot1 = np.zeros(10)\n",
    "acc_tot2 = np.zeros(10)\n",
    "acc_tot3 = np.zeros(10)\n",
    "\n",
    "# acc_maxmin = np.zeros(10)\n",
    "for i in range(10):\n",
    "    x = pickle.load(open('/Users/mgong/gitProjects/MDAN/wifi-1.0-%d-maxmin.pkl' % (i+1), 'rb'))\n",
    "    acc_tot1[i] = 1- x['tot1'].sum()/len(x['tot1'])\n",
    "    acc_tot2[i] = 1- x['tot2'].sum()/len(x['tot2'])\n",
    "    acc_tot3[i] = 1- x['tot3'].sum()/len(x['tot3'])\n",
    "print(acc_tot1.mean(), acc_tot1.std())\n",
    "print(acc_tot2.mean(), acc_tot2.std())\n",
    "print(acc_tot3.mean(), acc_tot3.std())"
   ]
  },
  {
   "cell_type": "code",
   "execution_count": 33,
   "metadata": {},
   "outputs": [
    {
     "name": "stdout",
     "output_type": "stream",
     "text": [
      "0.44857142857142857 0.05102620375246189\n",
      "0.44957142857142857 0.04423983798914868\n",
      "0.4362857142857142 0.04143448233694506\n"
     ]
    }
   ],
   "source": [
    "acc_tot1 = np.zeros(10)\n",
    "acc_tot2 = np.zeros(10)\n",
    "acc_tot3 = np.zeros(10)\n",
    "\n",
    "# acc_maxmin = np.zeros(10)\n",
    "for i in range(10):\n",
    "    x = pickle.load(open('/Users/mgong/gitProjects/MDAN/wifi-1.0-%d-dynamic.pkl' % (i+1), 'rb'))\n",
    "    acc_tot1[i] = 1- x['tot1'].sum()/len(x['tot1'])\n",
    "    acc_tot2[i] = 1- x['tot2'].sum()/len(x['tot2'])\n",
    "    acc_tot3[i] = 1- x['tot3'].sum()/len(x['tot3'])\n",
    "print(acc_tot1.mean(), acc_tot1.std())\n",
    "print(acc_tot2.mean(), acc_tot2.std())\n",
    "print(acc_tot3.mean(), acc_tot3.std())"
   ]
  },
  {
   "cell_type": "markdown",
   "metadata": {},
   "source": [
    "flow5 data"
   ]
  },
  {
   "cell_type": "code",
   "execution_count": 41,
   "metadata": {},
   "outputs": [
    {
     "name": "stdout",
     "output_type": "stream",
     "text": [
      "0.8878571428571428 0.09300833844558326\n"
     ]
    }
   ],
   "source": [
    "acc_flow5 = np.zeros(28)\n",
    "\n",
    "# acc_maxmin = np.zeros(10)\n",
    "for i in range(28):\n",
    "    x = pickle.load(open('/Users/mgong/gitProjects/MDAN/flow-6-%d-maxmin.pkl' % (i), 'rb'))\n",
    "    acc_flow5[i] = 1- x['flow'].sum()/len(x['flow'])\n",
    "print(acc_flow5.mean(), acc_flow5.std())"
   ]
  },
  {
   "cell_type": "code",
   "execution_count": 39,
   "metadata": {},
   "outputs": [
    {
     "name": "stdout",
     "output_type": "stream",
     "text": [
      "0.8902857142857143 0.0972444846555236\n"
     ]
    }
   ],
   "source": [
    "acc_flow5 = np.zeros(28)\n",
    "\n",
    "# acc_maxmin = np.zeros(10)\n",
    "for i in range(28):\n",
    "    x = pickle.load(open('/Users/mgong/gitProjects/MDAN/flow-6-%d-dynamic.pkl' % (i), 'rb'))\n",
    "    acc_flow5[i] = 1- x['flow'].sum()/len(x['flow'])\n",
    "print(acc_flow5.mean(), acc_flow5.std())"
   ]
  },
  {
   "cell_type": "markdown",
   "metadata": {},
   "source": [
    "flow3 data"
   ]
  },
  {
   "cell_type": "code",
   "execution_count": 43,
   "metadata": {},
   "outputs": [
    {
     "name": "stdout",
     "output_type": "stream",
     "text": [
      "0.8906428571428571 0.08606816828442866\n"
     ]
    }
   ],
   "source": [
    "acc_flow5 = np.zeros(28)\n",
    "\n",
    "# acc_maxmin = np.zeros(10)\n",
    "for i in range(28):\n",
    "    x = pickle.load(open('/Users/mgong/gitProjects/MDAN/flow-4-%d-maxmin.pkl' % (i), 'rb'))\n",
    "    acc_flow5[i] = 1- x['flow'].sum()/len(x['flow'])\n",
    "print(acc_flow5.mean(), acc_flow5.std())"
   ]
  },
  {
   "cell_type": "code",
   "execution_count": 44,
   "metadata": {},
   "outputs": [
    {
     "name": "stdout",
     "output_type": "stream",
     "text": [
      "0.8972857142857141 0.0808211681707818\n"
     ]
    }
   ],
   "source": [
    "acc_flow5 = np.zeros(28)\n",
    "\n",
    "# acc_maxmin = np.zeros(10)\n",
    "for i in range(28):\n",
    "    x = pickle.load(open('/Users/mgong/gitProjects/MDAN/flow-4-%d-dynamic.pkl' % (i), 'rb'))\n",
    "    acc_flow5[i] = 1- x['flow'].sum()/len(x['flow'])\n",
    "print(acc_flow5.mean(), acc_flow5.std())"
   ]
  },
  {
   "cell_type": "markdown",
   "metadata": {},
   "source": [
    "simulation data"
   ]
  },
  {
   "cell_type": "code",
   "execution_count": 48,
   "metadata": {},
   "outputs": [
    {
     "name": "stdout",
     "output_type": "stream",
     "text": [
      "0.5786 0.32109693240515397\n"
     ]
    }
   ],
   "source": [
    "acc_simul = np.zeros(10)\n",
    "\n",
    "for i in range(10):\n",
    "    x = pickle.load(open('/Users/mgong/gitProjects/MDAN/simul-3-%d-maxmin.pkl' % (i), 'rb'))\n",
    "    acc_simul[i] = 1- x['flow'].sum()/len(x['flow'])\n",
    "print(acc_simul.mean(), acc_simul.std())"
   ]
  },
  {
   "cell_type": "code",
   "execution_count": 54,
   "metadata": {},
   "outputs": [
    {
     "name": "stdout",
     "output_type": "stream",
     "text": [
      "0.6268 0.28570922281228517\n"
     ]
    }
   ],
   "source": [
    "acc_simul = np.zeros(10)\n",
    "\n",
    "for i in range(10):\n",
    "    x = pickle.load(open('/Users/mgong/gitProjects/MDAN/simul-3-%d-dynamic.pkl' % (i), 'rb'))\n",
    "    acc_simul[i] = 1- x['flow'].sum()/len(x['flow'])\n",
    "print(acc_simul.mean(), acc_simul.std())"
   ]
  },
  {
   "cell_type": "code",
   "execution_count": 52,
   "metadata": {},
   "outputs": [
    {
     "name": "stdout",
     "output_type": "stream",
     "text": [
      "0.36379999999999996 0.28452409388310157\n"
     ]
    }
   ],
   "source": [
    "acc_simul = np.zeros(10)\n",
    "\n",
    "for i in range(10):\n",
    "    x = pickle.load(open('/Users/mgong/gitProjects/MDAN/simul-6-%d-maxmin.pkl' % (i), 'rb'))\n",
    "    acc_simul[i] = 1- x['flow'].sum()/len(x['flow'])\n",
    "print(acc_simul.mean(), acc_simul.std())"
   ]
  },
  {
   "cell_type": "code",
   "execution_count": 55,
   "metadata": {},
   "outputs": [
    {
     "name": "stdout",
     "output_type": "stream",
     "text": [
      "0.46440000000000003 0.3371525470762456\n"
     ]
    }
   ],
   "source": [
    "acc_simul = np.zeros(10)\n",
    "\n",
    "for i in range(10):\n",
    "    x = pickle.load(open('/Users/mgong/gitProjects/MDAN/simul-6-%d-dynamic.pkl' % (i), 'rb'))\n",
    "    acc_simul[i] = 1- x['flow'].sum()/len(x['flow'])\n",
    "print(acc_simul.mean(), acc_simul.std())"
   ]
  },
  {
   "cell_type": "code",
   "execution_count": 53,
   "metadata": {},
   "outputs": [
    {
     "name": "stdout",
     "output_type": "stream",
     "text": [
      "0.7038 0.40166996402519317\n"
     ]
    }
   ],
   "source": [
    "acc_simul = np.zeros(10)\n",
    "\n",
    "for i in range(10):\n",
    "    x = pickle.load(open('/Users/mgong/gitProjects/MDAN/simul-10-%d-maxmin.pkl' % (i), 'rb'))\n",
    "    acc_simul[i] = 1- x['flow'].sum()/len(x['flow'])\n",
    "print(acc_simul.mean(), acc_simul.std())"
   ]
  },
  {
   "cell_type": "code",
   "execution_count": 56,
   "metadata": {},
   "outputs": [
    {
     "name": "stdout",
     "output_type": "stream",
     "text": [
      "0.6140000000000001 0.2704440792474481\n"
     ]
    }
   ],
   "source": [
    "acc_simul = np.zeros(10)\n",
    "\n",
    "for i in range(10):\n",
    "    x = pickle.load(open('/Users/mgong/gitProjects/MDAN/simul-10-%d-dynamic.pkl' % (i), 'rb'))\n",
    "    acc_simul[i] = 1- x['flow'].sum()/len(x['flow'])\n",
    "print(acc_simul.mean(), acc_simul.std())"
   ]
  }
 ],
 "metadata": {
  "kernelspec": {
   "display_name": "Python 3",
   "language": "python",
   "name": "python3"
  },
  "language_info": {
   "codemirror_mode": {
    "name": "ipython",
    "version": 3
   },
   "file_extension": ".py",
   "mimetype": "text/x-python",
   "name": "python",
   "nbconvert_exporter": "python",
   "pygments_lexer": "ipython3",
   "version": "3.7.7"
  }
 },
 "nbformat": 4,
 "nbformat_minor": 4
}
