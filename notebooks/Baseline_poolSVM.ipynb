{
 "cells": [
  {
   "cell_type": "code",
   "execution_count": 4,
   "metadata": {},
   "outputs": [],
   "source": [
    "import numpy as np\n",
    "import scipy.io as sio"
   ]
  },
  {
   "cell_type": "code",
   "execution_count": 35,
   "metadata": {},
   "outputs": [
    {
     "name": "stdout",
     "output_type": "stream",
     "text": [
      "[[92.86]]\n",
      "[[9.18890635]]\n"
     ]
    }
   ],
   "source": [
    "x = sio.loadmat('/Users/mgong/gitProjects/bayesian_GAN_for_Mingming/simulated2_poolSVM_fresh/final_accuracies.mat')\n",
    "print(x['final_accuracies'])\n",
    "print(x['final_accuracies_std'])"
   ]
  },
  {
   "cell_type": "code",
   "execution_count": 39,
   "metadata": {},
   "outputs": [
    {
     "name": "stdout",
     "output_type": "stream",
     "text": [
      "[[63.24]]\n",
      "[[34.74565361]]\n"
     ]
    }
   ],
   "source": [
    "x = sio.loadmat('/Users/mgong/gitProjects/bayesian_GAN_for_Mingming/simulated5_poolSVM_fresh/final_accuracies.mat')\n",
    "print(x['final_accuracies'])\n",
    "print(x['final_accuracies_std'])"
   ]
  },
  {
   "cell_type": "code",
   "execution_count": 41,
   "metadata": {},
   "outputs": [
    {
     "name": "stdout",
     "output_type": "stream",
     "text": [
      "[[47.6]]\n",
      "[[37.16760836]]\n"
     ]
    }
   ],
   "source": [
    "x = sio.loadmat('/Users/mgong/gitProjects/bayesian_GAN_for_Mingming/simulated9_poolSVM_fresh/final_accuracies.mat')\n",
    "print(x['final_accuracies'])\n",
    "print(x['final_accuracies_std'])"
   ]
  },
  {
   "cell_type": "code",
   "execution_count": 29,
   "metadata": {},
   "outputs": [
    {
     "name": "stdout",
     "output_type": "stream",
     "text": [
      "[[37.59797867 39.50190375 39.67064406 39.72513562 39.73234954 39.73234954\n",
      "  39.73965274 39.74704517 39.74704517 39.74704517 39.74704517]\n",
      " [45.82575695 47.29211774 47.34479486 44.7687793  44.87415737 45.35252584\n",
      "  45.40336551 45.4561283  45.4561283  45.4561283  45.46691105]\n",
      " [48.97349896 48.79186817 49.70611632 47.64953725 47.22552276 48.24690249\n",
      "  48.37821411 48.50243705 48.51659098 48.51659098 48.51659098]\n",
      " [48.58230542 45.53321425 45.59056481 44.72565707 45.8476826  47.90774885\n",
      "  48.05996255 48.2378109  48.26033154 48.26033154 48.28291623]\n",
      " [47.61297722 45.76122813 45.36253961 39.40509612 42.34532324 44.51168386\n",
      "  44.67970009 44.90723327 44.90723327 44.74360736 44.22576625]\n",
      " [40.33626656 39.91355158 40.16862457 42.86690565 44.20960982 44.73620905\n",
      "  44.87857395 44.90723327 44.90723327 44.93595442 44.96473729]\n",
      " [39.4765804  39.52923475 41.92343497 44.15552514 44.51168386 44.87857395\n",
      "  44.90723327 44.90723327 44.93595442 44.96473729 44.96473729]\n",
      " [39.97039404 41.53194433 44.29122261 44.62344227 44.76455741 44.90723327\n",
      "  44.90723327 44.93595442 44.96473729 44.96473729 44.96473729]\n",
      " [39.65791724 43.7322947  44.62344227 44.8214413  44.90723327 44.90723327\n",
      "  44.93595442 44.96473729 44.96473729 44.96473729 44.96473729]\n",
      " [39.682258   44.45618517 44.76455741 44.90723327 44.90723327 44.93595442\n",
      "  44.96473729 44.96473729 44.96473729 44.96473729 44.96473729]\n",
      " [41.34787056 44.62344227 44.87857395 44.90723327 44.90723327 44.96473729\n",
      "  44.96473729 44.96473729 44.96473729 44.96473729 44.96473729]]\n"
     ]
    }
   ],
   "source": [
    "x = sio.loadmat('/Users/mgong/gitProjects/bayesian_GAN_for_Mingming/simulated9_poolSVM_fresh/final_accuracies.mat')\n",
    "print(x['final_accuracies'])\n",
    "print(x['final_accuracies_std'])"
   ]
  },
  {
   "cell_type": "code",
   "execution_count": 43,
   "metadata": {},
   "outputs": [
    {
     "name": "stdout",
     "output_type": "stream",
     "text": [
      "[[92.14285714]]\n",
      "[[7.47813745]]\n"
     ]
    }
   ],
   "source": [
    "x = sio.loadmat('/Users/mgong/gitProjects/bayesian_GAN_for_Mingming/flow3_poolSVM_fresh_run/final_accuracies.mat')\n",
    "print(x['final_accuracies'])\n",
    "print(x['final_accuracies_std'])"
   ]
  }
 ],
 "metadata": {
  "kernelspec": {
   "display_name": "Python 3",
   "language": "python",
   "name": "python3"
  },
  "language_info": {
   "codemirror_mode": {
    "name": "ipython",
    "version": 3
   },
   "file_extension": ".py",
   "mimetype": "text/x-python",
   "name": "python",
   "nbconvert_exporter": "python",
   "pygments_lexer": "ipython3",
   "version": "3.7.7"
  }
 },
 "nbformat": 4,
 "nbformat_minor": 4
}
