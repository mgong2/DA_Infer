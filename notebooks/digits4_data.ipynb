{
 "cells": [
  {
   "cell_type": "markdown",
   "metadata": {},
   "source": [
    "# MNIST, MNIST-M, SVHN, SYNTH_DIGITs"
   ]
  },
  {
   "cell_type": "code",
   "execution_count": 4,
   "metadata": {},
   "outputs": [],
   "source": [
    "import numpy as np\n",
    "import torch\n",
    "import torch.utils.data as data\n",
    "import os\n",
    "import numpy.matlib\n",
    "from PIL import Image"
   ]
  },
  {
   "cell_type": "markdown",
   "metadata": {},
   "source": [
    "train"
   ]
  },
  {
   "cell_type": "code",
   "execution_count": 6,
   "metadata": {},
   "outputs": [
    {
     "name": "stdout",
     "output_type": "stream",
     "text": [
      "(60000, 28, 28)\n",
      "(60000,)\n",
      "(59001, 32, 32, 3)\n",
      "(59001,)\n",
      "(73257, 32, 32, 3)\n",
      "(73257,)\n",
      "(479400, 32, 32, 3)\n",
      "(479400, 1)\n"
     ]
    }
   ],
   "source": [
    "data_path = '../data/DatasetDigits4'\n",
    "img_mnist, label_mnist = torch.load(os.path.join('../data/mnist', 'MNIST_train.pt'))\n",
    "img_mnist_m, label_mnist_m = torch.load(os.path.join('../data/mnist_m', 'MNIST_M_train.pt'))\n",
    "img_svhn, label_svhn = torch.load(os.path.join('../data/svhn', 'SVHN_train.pt'))\n",
    "img_synd, label_synd = torch.load(os.path.join('../data/syn_digits', 'SYN_DIGITS_train.pt'))\n",
    "\n",
    "print(img_mnist.shape)\n",
    "print(label_mnist.shape)\n",
    "print(img_mnist_m.shape)\n",
    "print(label_mnist_m.shape)\n",
    "print(img_svhn.shape)\n",
    "print(label_svhn.shape)\n",
    "print(img_synd.shape)\n",
    "print(label_synd.shape)\n"
   ]
  },
  {
   "cell_type": "code",
   "execution_count": 8,
   "metadata": {},
   "outputs": [],
   "source": [
    "# subsample data\n",
    "num_domain = 4\n",
    "num_train = 20000\n",
    "num_class = 10\n",
    "\n",
    "# subsample each data set\n",
    "indices = np.arange(len(img_mnist))\n",
    "np.random.shuffle(indices)\n",
    "indices = indices[:num_train]\n",
    "img_mnist_sub = img_mnist[indices]\n",
    "label_mnist_sub = label_mnist[indices]\n",
    "\n",
    "indices = np.arange(len(img_mnist_m))\n",
    "np.random.shuffle(indices)\n",
    "indices = indices[:num_train]\n",
    "img_mnist_m_sub = img_mnist_m[indices]\n",
    "label_mnist_m_sub = label_mnist_m[indices]\n",
    "\n",
    "indices = np.arange(len(img_svhn))\n",
    "np.random.shuffle(indices)\n",
    "indices = indices[:num_train]\n",
    "img_svhn_sub = img_svhn[indices]\n",
    "label_svhn_sub = label_svhn[indices]\n",
    "\n",
    "indices = np.arange(len(img_synd))\n",
    "np.random.shuffle(indices)\n",
    "indices = indices[:num_train]\n",
    "img_synd_sub = img_synd[indices]\n",
    "label_synd_sub = label_synd[indices].squeeze()\n"
   ]
  },
  {
   "cell_type": "code",
   "execution_count": 10,
   "metadata": {},
   "outputs": [
    {
     "name": "stdout",
     "output_type": "stream",
     "text": [
      "(20000, 28, 28)\n",
      "(20000,)\n",
      "(20000, 32, 32, 3)\n",
      "(20000,)\n",
      "(20000, 32, 32, 3)\n",
      "(20000,)\n",
      "(20000, 32, 32, 3)\n",
      "(20000,)\n"
     ]
    }
   ],
   "source": [
    "print(img_mnist_sub.shape)\n",
    "print(label_mnist_sub.shape)\n",
    "print(img_mnist_m_sub.shape)\n",
    "print(label_mnist_m_sub.shape)\n",
    "print(img_svhn_sub.shape)\n",
    "print(label_svhn_sub.shape)\n",
    "print(img_synd_sub.shape)\n",
    "print(label_synd_sub.shape)"
   ]
  },
  {
   "cell_type": "code",
   "execution_count": 13,
   "metadata": {},
   "outputs": [],
   "source": [
    "data_dict_mnist=[img_mnist_sub, label_mnist_sub]\n",
    "torch.save(data_dict_mnist, os.path.join(data_path, 'mnist_train.pt'))\n",
    "\n",
    "data_dict_mnist_m=[img_mnist_m_sub, label_mnist_m_sub]\n",
    "torch.save(data_dict_mnist_m, os.path.join(data_path, 'mnist_m_train.pt'))\n",
    "\n",
    "data_dict_svhn=[img_svhn_sub, label_svhn_sub]\n",
    "torch.save(data_dict_svhn, os.path.join(data_path, 'svhn_train.pt'))\n",
    "\n",
    "data_dict_synd=[img_synd_sub, label_synd_sub]\n",
    "torch.save(data_dict_synd, os.path.join(data_path, 'synd_train.pt'))"
   ]
  },
  {
   "cell_type": "markdown",
   "metadata": {},
   "source": [
    "test"
   ]
  },
  {
   "cell_type": "code",
   "execution_count": 14,
   "metadata": {},
   "outputs": [
    {
     "name": "stdout",
     "output_type": "stream",
     "text": [
      "(10000, 28, 28)\n",
      "(10000,)\n",
      "(9001, 32, 32, 3)\n",
      "(9001,)\n",
      "(26032, 32, 32, 3)\n",
      "(26032,)\n",
      "(9553, 32, 32, 3)\n",
      "(9553, 1)\n"
     ]
    }
   ],
   "source": [
    "data_path = '../data/DatasetDigits4'\n",
    "img_mnist, label_mnist = torch.load(os.path.join('../data/mnist', 'MNIST_test.pt'))\n",
    "img_mnist_m, label_mnist_m = torch.load(os.path.join('../data/mnist_m', 'MNIST_M_test.pt'))\n",
    "img_svhn, label_svhn = torch.load(os.path.join('../data/svhn', 'SVHN_test.pt'))\n",
    "img_synd, label_synd = torch.load(os.path.join('../data/syn_digits', 'SYN_DIGITS_test.pt'))\n",
    "\n",
    "print(img_mnist.shape)\n",
    "print(label_mnist.shape)\n",
    "print(img_mnist_m.shape)\n",
    "print(label_mnist_m.shape)\n",
    "print(img_svhn.shape)\n",
    "print(label_svhn.shape)\n",
    "print(img_synd.shape)\n",
    "print(label_synd.shape)"
   ]
  },
  {
   "cell_type": "code",
   "execution_count": 15,
   "metadata": {},
   "outputs": [],
   "source": [
    "# subsample data\n",
    "num_domain = 4\n",
    "num_train = 9000\n",
    "num_class = 10\n",
    "\n",
    "# subsample each data set\n",
    "indices = np.arange(len(img_mnist))\n",
    "np.random.shuffle(indices)\n",
    "indices = indices[:num_train]\n",
    "img_mnist_sub = img_mnist[indices]\n",
    "label_mnist_sub = label_mnist[indices]\n",
    "\n",
    "indices = np.arange(len(img_mnist_m))\n",
    "np.random.shuffle(indices)\n",
    "indices = indices[:num_train]\n",
    "img_mnist_m_sub = img_mnist_m[indices]\n",
    "label_mnist_m_sub = label_mnist_m[indices]\n",
    "\n",
    "indices = np.arange(len(img_svhn))\n",
    "np.random.shuffle(indices)\n",
    "indices = indices[:num_train]\n",
    "img_svhn_sub = img_svhn[indices]\n",
    "label_svhn_sub = label_svhn[indices]\n",
    "\n",
    "indices = np.arange(len(img_synd))\n",
    "np.random.shuffle(indices)\n",
    "indices = indices[:num_train]\n",
    "img_synd_sub = img_synd[indices]\n",
    "label_synd_sub = label_synd[indices].squeeze()\n"
   ]
  },
  {
   "cell_type": "code",
   "execution_count": 16,
   "metadata": {},
   "outputs": [
    {
     "name": "stdout",
     "output_type": "stream",
     "text": [
      "(9000, 28, 28)\n",
      "(9000,)\n",
      "(9000, 32, 32, 3)\n",
      "(9000,)\n",
      "(9000, 32, 32, 3)\n",
      "(9000,)\n",
      "(9000, 32, 32, 3)\n",
      "(9000,)\n"
     ]
    }
   ],
   "source": [
    "print(img_mnist_sub.shape)\n",
    "print(label_mnist_sub.shape)\n",
    "print(img_mnist_m_sub.shape)\n",
    "print(label_mnist_m_sub.shape)\n",
    "print(img_svhn_sub.shape)\n",
    "print(label_svhn_sub.shape)\n",
    "print(img_synd_sub.shape)\n",
    "print(label_synd_sub.shape)"
   ]
  },
  {
   "cell_type": "code",
   "execution_count": 17,
   "metadata": {},
   "outputs": [],
   "source": [
    "data_dict_mnist=[img_mnist_sub, label_mnist_sub]\n",
    "torch.save(data_dict_mnist, os.path.join(data_path, 'mnist_test.pt'))\n",
    "\n",
    "data_dict_mnist_m=[img_mnist_m_sub, label_mnist_m_sub]\n",
    "torch.save(data_dict_mnist_m, os.path.join(data_path, 'mnist_m_test.pt'))\n",
    "\n",
    "data_dict_svhn=[img_svhn_sub, label_svhn_sub]\n",
    "torch.save(data_dict_svhn, os.path.join(data_path, 'svhn_test.pt'))\n",
    "\n",
    "data_dict_synd=[img_synd_sub, label_synd_sub]\n",
    "torch.save(data_dict_synd, os.path.join(data_path, 'synd_test.pt'))"
   ]
  }
 ],
 "metadata": {
  "kernelspec": {
   "display_name": "Python 3",
   "language": "python",
   "name": "python3"
  },
  "language_info": {
   "codemirror_mode": {
    "name": "ipython",
    "version": 3
   },
   "file_extension": ".py",
   "mimetype": "text/x-python",
   "name": "python",
   "nbconvert_exporter": "python",
   "pygments_lexer": "ipython3",
   "version": "3.7.7"
  }
 },
 "nbformat": 4,
 "nbformat_minor": 4
}
