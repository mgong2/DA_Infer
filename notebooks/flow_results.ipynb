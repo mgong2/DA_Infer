{
 "cells": [
  {
   "cell_type": "markdown",
   "metadata": {},
   "source": [
    "# Summarize flow results"
   ]
  },
  {
   "cell_type": "code",
   "execution_count": 2,
   "metadata": {},
   "outputs": [],
   "source": [
    "import torch\n",
    "import numpy as np"
   ]
  },
  {
   "cell_type": "markdown",
   "metadata": {},
   "source": [
    "5 source domains"
   ]
  },
  {
   "cell_type": "code",
   "execution_count": 3,
   "metadata": {},
   "outputs": [
    {
     "name": "stdout",
     "output_type": "stream",
     "text": [
      "poolNN\n",
      "0.9777142857142858 0.023291410346270733\n",
      "0.9602857142857141 0.05058998852318026\n",
      "JMMD\n",
      "0.9813571428571427 0.016656646647840643\n",
      "0.9654999999999999 0.03534574130742525\n",
      "JMMD_DAG\n",
      "0.9797142857142858 0.0226823675113152\n",
      "0.9660714285714286 0.03915347874658371\n"
     ]
    }
   ],
   "source": [
    "num_rep = 28\n",
    "acc_best = np.zeros(num_rep)\n",
    "acc_final = np.zeros(num_rep)\n",
    "\n",
    "for i in range(num_rep):\n",
    "    file_name = '../weights/DatasetFlow5_bk1/_tarId1_seed%d_idim4_DA_Poolnn_ML_warmup200_MLP_Generator_MLP_Classifier_AC_weight1.00_TAR_weight0.20_useMB1_mlp_nodes10_bs300_Glr2.0e-03_Dlr2.0e-03_numDomain6_dimDomain1_dimHidden4_state.pkl' % i\n",
    "    x = torch.load(file_name)\n",
    "    acc_best[i] = x['best_score']\n",
    "    acc_final[i] = x['final_score']\n",
    "print('poolNN')\n",
    "print(acc_best.mean(), acc_best.std())\n",
    "print(acc_final.mean(), acc_final.std())\n",
    "\n",
    "for i in range(num_rep):\n",
    "    file_name = '../weights/DatasetFlow5_bk1/_tarId1_seed%d_idim4_DA_Infer_JMMD_ML_warmup200_MLP_Generator_MLP_Classifier_AC_weight1.00_TAR_weight0.20_useMB1_mlp_nodes10_bs300_Glr2.0e-03_Dlr2.0e-03_numDomain6_dimDomain1_dimHidden4_state.pkl' % i\n",
    "    x = torch.load(file_name)\n",
    "    acc_best[i] = x['best_score']\n",
    "    acc_final[i] = x['final_score']\n",
    "print('JMMD')\n",
    "print(acc_best.mean(), acc_best.std())\n",
    "print(acc_final.mean(), acc_final.std())\n",
    "\n",
    "for i in range(num_rep):\n",
    "    file_name = '../weights/DatasetFlow5_bk1/_tarId1_seed%d_idim4_DA_Infer_JMMD_DAG_m1_ML_warmup200_gp10.00_sn0_PDAG_Generator_MLP_Classifier_Diter1_AC_weight1.00_SRC_weight1.00_TAR_weight0.20_useMB1_mlp_nodes10_bs300_Glr2.0e-03_Dlr2.0e-03_numDomain6_dimDomain1_dimHidden1_state.pkl' % i\n",
    "    x = torch.load(file_name)\n",
    "    acc_best[i] = x['best_score']\n",
    "    acc_final[i] = x['final_score']\n",
    "print('JMMD_DAG')\n",
    "print(acc_best.mean(), acc_best.std())\n",
    "print(acc_final.mean(), acc_final.std())"
   ]
  },
  {
   "cell_type": "markdown",
   "metadata": {},
   "source": [
    "3 source domains"
   ]
  },
  {
   "cell_type": "code",
   "execution_count": 4,
   "metadata": {},
   "outputs": [
    {
     "name": "stdout",
     "output_type": "stream",
     "text": [
      "poolNN\n",
      "0.9731428571428571 0.024339436379368067\n",
      "0.9579285714285716 0.05268093215049349\n",
      "JMMD\n",
      "0.9742142857142858 0.02187196043022263\n",
      "0.9634285714285714 0.028544987765466146\n",
      "JMMD_DAG\n",
      "0.9757142857142856 0.01888850206353277\n",
      "0.9666428571428571 0.0210581071692358\n"
     ]
    }
   ],
   "source": [
    "num_rep = 28\n",
    "acc_best = np.zeros(num_rep)\n",
    "acc_final = np.zeros(num_rep)\n",
    "\n",
    "for i in range(num_rep):\n",
    "    file_name = '../weights/DatasetFlow3_bk1/_tarId1_seed%d_idim4_DA_Poolnn_m1_ML_warmup200_gp10.00_sn0_MLP_Generator_MLP_Classifier_Diter1_AC_weight1.00_SRC_weight1.00_TAR_weight0.20_useMB1_mlp_nodes10_bs300_Glr2.0e-03_Dlr2.0e-03_numDomain4_dimDomain1_dimHidden4_state.pkl' % i\n",
    "    x = torch.load(file_name)\n",
    "    acc_best[i] = x['best_score']\n",
    "    acc_final[i] = x['final_score']\n",
    "print('poolNN')\n",
    "print(acc_best.mean(), acc_best.std())\n",
    "print(acc_final.mean(), acc_final.std())\n",
    "\n",
    "for i in range(num_rep):\n",
    "    file_name = '../weights/DatasetFlow3_bk1/_tarId1_seed%d_idim4_DA_Infer_JMMD_m1_ML_warmup200_gp10.00_sn0_MLP_Generator_MLP_Classifier_Diter1_AC_weight1.00_SRC_weight1.00_TAR_weight0.20_useMB1_mlp_nodes10_bs300_Glr2.0e-03_Dlr2.0e-03_numDomain4_dimDomain1_dimHidden4_state.pkl' % i\n",
    "    x = torch.load(file_name)\n",
    "    acc_best[i] = x['best_score']\n",
    "    acc_final[i] = x['final_score']\n",
    "print('JMMD')\n",
    "print(acc_best.mean(), acc_best.std())\n",
    "print(acc_final.mean(), acc_final.std())\n",
    "\n",
    "for i in range(num_rep):\n",
    "    file_name = '../weights/DatasetFlow3_bk1/_tarId1_seed%d_idim4_DA_Infer_JMMD_DAG_m1_ML_warmup200_gp10.00_sn0_PDAG_Generator_MLP_Classifier_Diter1_AC_weight1.00_SRC_weight1.00_TAR_weight0.20_useMB1_mlp_nodes10_bs300_Glr2.0e-03_Dlr2.0e-03_numDomain4_dimDomain1_dimHidden1_state.pkl' % i\n",
    "    x = torch.load(file_name)\n",
    "    acc_best[i] = x['best_score']\n",
    "    acc_final[i] = x['final_score']\n",
    "print('JMMD_DAG')\n",
    "print(acc_best.mean(), acc_best.std())\n",
    "print(acc_final.mean(), acc_final.std())\n"
   ]
  },
  {
   "cell_type": "markdown",
   "metadata": {},
   "source": [
    "New results, 5 sources"
   ]
  },
  {
   "cell_type": "code",
   "execution_count": 13,
   "metadata": {},
   "outputs": [
    {
     "name": "stdout",
     "output_type": "stream",
     "text": [
      "JMMD_DAG\n",
      "0.9865 0.014458067446436754\n",
      "0.9713571428571427 0.03499409571190371\n"
     ]
    }
   ],
   "source": [
    "num_rep = 28\n",
    "acc_best = np.zeros(num_rep)\n",
    "acc_final = np.zeros(num_rep)\n",
    "# for i in range(num_rep):\n",
    "#     file_name = '../weights/DatasetFlow5_bk2/_tarId1_seed%d_idim4_DA_Poolnn_ML_m0_warmup200_MLP_Generator_MLP_Classifier_Diter1_AC_weight1.00_SRC_weight1.00_TAR_weight1.00_useMB1_G_mlp_nodes32_D_mlp_nodes32_bs300_Glr1.0e-02_Dlr1.0e-02_numDomain6_dimDomain1_dimHidden1_state.pkl' % i\n",
    "#     x = torch.load(file_name)\n",
    "#     acc_best[i] = x['best_score']\n",
    "#     acc_final[i] = x['final_score']\n",
    "# print('poolNN')\n",
    "# print(acc_best.mean(), acc_best.std())\n",
    "# print(acc_final.mean(), acc_final.std())\n",
    "\n",
    "for i in range(num_rep):\n",
    "    file_name = '../weights/DatasetFlow5_bk2/_tarId1_seed%d_idim4_DA_Infer_JMMD_DAG_Bayesian_m1_warmup200_PDAG_Generator_MLP_Classifier_Diter1_AC_weight1.00_SRC_weight1.00_TAR_weight0.20_useMB1_G_mlp_nodes32_D_mlp_nodes32_bs300_Glr1.0e-02_Dlr1.0e-02_numDomain6_dimDomain1_dimHidden1_state.pkl' % i\n",
    "    x = torch.load(file_name)\n",
    "    acc_best[i] = x['best_score']\n",
    "    acc_final[i] = x['final_score']\n",
    "print('JMMD_DAG')\n",
    "print(acc_best.mean(), acc_best.std())\n",
    "print(acc_final.mean(), acc_final.std())"
   ]
  },
  {
   "cell_type": "markdown",
   "metadata": {},
   "source": [
    "3 sources"
   ]
  },
  {
   "cell_type": "code",
   "execution_count": 14,
   "metadata": {},
   "outputs": [
    {
     "name": "stdout",
     "output_type": "stream",
     "text": [
      "JMMD_DAG\n",
      "0.9817142857142857 0.014449066066846053\n",
      "0.9684999999999998 0.034705392746866966\n"
     ]
    }
   ],
   "source": [
    "num_rep = 28\n",
    "acc_best = np.zeros(num_rep)\n",
    "acc_final = np.zeros(num_rep)\n",
    "\n",
    "# for i in range(num_rep):\n",
    "#     file_name = '../weights/DatasetFlow3_bk2/_tarId1_seed%d_idim4_DA_Poolnn_ML_m0_warmup200_MLP_Generator_MLP_Classifier_Diter1_AC_weight1.00_SRC_weight1.00_TAR_weight1.00_useMB1_G_mlp_nodes32_D_mlp_nodes32_bs300_Glr1.0e-02_Dlr1.0e-02_numDomain4_dimDomain1_dimHidden1_state.pkl' % i\n",
    "#     x = torch.load(file_name)\n",
    "#     acc_best[i] = x['best_score']\n",
    "#     acc_final[i] = x['final_score']\n",
    "# print('poolNN')\n",
    "# print(acc_best.mean(), acc_best.std())\n",
    "# print(acc_final.mean(), acc_final.std())\n",
    "\n",
    "for i in range(num_rep):\n",
    "    file_name = '../weights/DatasetFlow3_bk2/_tarId1_seed%d_idim4_DA_Infer_JMMD_DAG_Bayesian_m1_warmup200_PDAG_Generator_MLP_Classifier_Diter1_AC_weight1.00_SRC_weight1.00_TAR_weight0.20_useMB1_G_mlp_nodes32_D_mlp_nodes32_bs300_Glr1.0e-02_Dlr1.0e-02_numDomain4_dimDomain1_dimHidden1_state.pkl' % i\n",
    "    x = torch.load(file_name)\n",
    "    acc_best[i] = x['best_score']\n",
    "    acc_final[i] = x['final_score']\n",
    "print('JMMD_DAG')\n",
    "print(acc_best.mean(), acc_best.std())\n",
    "print(acc_final.mean(), acc_final.std())\n"
   ]
  }
 ],
 "metadata": {
  "kernelspec": {
   "display_name": "Python 3",
   "language": "python",
   "name": "python3"
  },
  "language_info": {
   "codemirror_mode": {
    "name": "ipython",
    "version": 3
   },
   "file_extension": ".py",
   "mimetype": "text/x-python",
   "name": "python",
   "nbconvert_exporter": "python",
   "pygments_lexer": "ipython3",
   "version": "3.8.3"
  }
 },
 "nbformat": 4,
 "nbformat_minor": 4
}
