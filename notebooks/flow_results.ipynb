{
 "cells": [
  {
   "cell_type": "markdown",
   "metadata": {},
   "source": [
    "# Summarize flow results"
   ]
  },
  {
   "cell_type": "code",
   "execution_count": 16,
   "metadata": {},
   "outputs": [],
   "source": [
    "import torch\n",
    "import numpy as np"
   ]
  },
  {
   "cell_type": "markdown",
   "metadata": {},
   "source": [
    "DA_Infer_JMMD"
   ]
  },
  {
   "cell_type": "code",
   "execution_count": 25,
   "metadata": {},
   "outputs": [
    {
     "name": "stdout",
     "output_type": "stream",
     "text": [
      "[0.96  0.964 0.898 0.932 0.968 0.994 0.946 0.986 0.996 0.996 0.986 0.99\n",
      " 0.996 0.99  0.992 0.988 0.998 0.996 0.99  0.99  0.992 0.974 0.988 0.95\n",
      " 0.988 0.986 0.952 0.99 ]\n",
      "[0.736 0.944 0.89  0.926 0.944 0.992 0.926 0.984 0.964 0.994 0.968 0.982\n",
      " 0.994 0.988 0.99  0.986 0.994 0.992 0.982 0.984 0.99  0.94  0.978 0.938\n",
      " 0.982 0.984 0.942 0.974]\n",
      "0.9777142857142858\n",
      "0.023291410346270733\n",
      "0.9602857142857141\n",
      "0.05058998852318026\n",
      "[0.958 0.974 0.946 0.956 0.978 0.992 0.956 0.988 0.984 0.998 0.992 0.996\n",
      " 0.998 0.994 0.992 0.988 0.998 0.996 0.986 0.988 0.994 0.976 0.99  0.954\n",
      " 0.986 0.988 0.942 0.99 ]\n",
      "[0.828 0.972 0.936 0.932 0.968 0.984 0.934 0.984 0.98  0.988 0.968 0.986\n",
      " 0.996 0.986 0.99  0.988 0.976 0.992 0.984 0.986 0.99  0.908 0.97  0.948\n",
      " 0.98  0.982 0.918 0.98 ]\n",
      "0.9813571428571427\n",
      "0.016656646647840643\n",
      "0.9654999999999999\n",
      "0.03534574130742525\n"
     ]
    }
   ],
   "source": [
    "num_rep = 28\n",
    "acc_best = np.zeros(num_rep)\n",
    "acc_final = np.zeros(num_rep)\n",
    "\n",
    "for i in range(num_rep):\n",
    "    file_name = '../weights/DatasetFlow5/_tarId1_seed%d_idim4_DA_Poolnn_ML_warmup200_MLP_Generator_MLP_Classifier_AC_weight1.00_TAR_weight0.20_useMB1_mlp_nodes10_bs300_Glr2.0e-03_Dlr2.0e-03_numDomain6_dimDomain1_dimHidden4_state.pkl' % i\n",
    "    x = torch.load(file_name)\n",
    "    acc_best[i] = x['best_score']\n",
    "    acc_final[i] = x['final_score']\n",
    "\n",
    "acc_best_filter = acc_best[acc_best<0.98]\n",
    "print(acc_best)\n",
    "print(acc_final)\n",
    "print(acc_best.mean())\n",
    "print(acc_best.std())\n",
    "print(acc_final.mean())\n",
    "print(acc_final.std())\n",
    "\n",
    "for i in range(num_rep):\n",
    "    file_name = '../weights/DatasetFlow5/_tarId1_seed%d_idim4_DA_Infer_JMMD_ML_warmup200_MLP_Generator_MLP_Classifier_AC_weight1.00_TAR_weight0.20_useMB1_mlp_nodes10_bs300_Glr2.0e-03_Dlr2.0e-03_numDomain6_dimDomain1_dimHidden4_state.pkl' % i\n",
    "    x = torch.load(file_name)\n",
    "    acc_best[i] = x['best_score']\n",
    "    acc_final[i] = x['final_score']\n",
    "print(acc_best)\n",
    "print(acc_final)\n",
    "print(acc_best.mean())\n",
    "print(acc_best.std())\n",
    "print(acc_final.mean())\n",
    "print(acc_final.std())"
   ]
  }
 ],
 "metadata": {
  "kernelspec": {
   "display_name": "Python 3",
   "language": "python",
   "name": "python3"
  },
  "language_info": {
   "codemirror_mode": {
    "name": "ipython",
    "version": 3
   },
   "file_extension": ".py",
   "mimetype": "text/x-python",
   "name": "python",
   "nbconvert_exporter": "python",
   "pygments_lexer": "ipython3",
   "version": "3.7.7"
  }
 },
 "nbformat": 4,
 "nbformat_minor": 4
}
