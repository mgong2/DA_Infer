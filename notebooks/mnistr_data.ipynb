{
 "cells": [
  {
   "cell_type": "markdown",
   "metadata": {},
   "source": [
    "# MNIST rotation data"
   ]
  },
  {
   "cell_type": "code",
   "execution_count": 14,
   "metadata": {},
   "outputs": [],
   "source": [
    "import numpy as np\n",
    "import torch\n",
    "import torch.utils.data as data\n",
    "import os\n",
    "import numpy.matlib\n",
    "from PIL import Image"
   ]
  },
  {
   "cell_type": "markdown",
   "metadata": {},
   "source": [
    "Generate mnist rotation data"
   ]
  },
  {
   "cell_type": "code",
   "execution_count": 49,
   "metadata": {},
   "outputs": [
    {
     "name": "stdout",
     "output_type": "stream",
     "text": [
      "(10000, 28, 28)\n",
      "(10000,)\n",
      "(40000, 28, 28)\n",
      "(40000, 2)\n"
     ]
    }
   ],
   "source": [
    "data_path = '../data/DatasetMNISTR'\n",
    "img, label = torch.load(os.path.join(data_path, 'MNIST_test.pt'))\n",
    "print(img.shape)\n",
    "print(label.shape)\n",
    "\n",
    "# concatenate multiple domain data, assign class labels and domain labels\n",
    "# no rotation is performed here, rotation should be performed in data loader\n",
    "num_domain = 4\n",
    "num_train = 10000\n",
    "num_class = 10\n",
    "degree = [0, 30, 60, 90]\n",
    "label_d = np.repeat(np.arange(num_domain), num_train).T.reshape(num_train * num_domain, 1)\n",
    "label_y = np.matlib.repmat(label, 1, num_domain).T\n",
    "x = np.concatenate((img, img, img, img))\n",
    "y = np.concatenate((label_y, label_d), 1)\n",
    "save_path = os.path.join(data_path, 'MNIST_rot.npz')\n",
    "np.savez(save_path, x=x, y=y)\n",
    "print(x.shape)\n",
    "print(y.shape)"
   ]
  },
  {
   "cell_type": "code",
   "execution_count": 50,
   "metadata": {},
   "outputs": [
    {
     "data": {
      "image/png": "[encoded data removed]",
      "text/plain": [
       "<PIL.Image.Image image mode=L size=28x28 at 0x13429ED50>"
      ]
     },
     "metadata": {},
     "output_type": "display_data"
    },
    {
     "data": {
      "image/png": "[encoded data removed]",
      "text/plain": [
       "<PIL.Image.Image image mode=L size=28x28 at 0x13429E9D0>"
      ]
     },
     "metadata": {},
     "output_type": "display_data"
    },
    {
     "name": "stdout",
     "output_type": "stream",
     "text": [
      "[0 2]\n"
     ]
    }
   ],
   "source": [
    "index = 22209\n",
    "img1 = Image.fromarray(x[index])\n",
    "img2 = Image.fromarray(img[22209-20000])\n",
    "display(img1)\n",
    "display(img2)\n",
    "print(y[index])"
   ]
  }
 ],
 "metadata": {
  "kernelspec": {
   "display_name": "Python 3",
   "language": "python",
   "name": "python3"
  },
  "language_info": {
   "codemirror_mode": {
    "name": "ipython",
    "version": 3
   },
   "file_extension": ".py",
   "mimetype": "text/x-python",
   "name": "python",
   "nbconvert_exporter": "python",
   "pygments_lexer": "ipython3",
   "version": "3.7.7"
  }
 },
 "nbformat": 4,
 "nbformat_minor": 4
}
