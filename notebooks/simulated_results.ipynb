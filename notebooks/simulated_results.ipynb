{
 "cells": [
  {
   "cell_type": "code",
   "execution_count": 1,
   "metadata": {},
   "outputs": [],
   "source": [
    "import torch\n",
    "import numpy as np"
   ]
  },
  {
   "cell_type": "code",
   "execution_count": 9,
   "metadata": {},
   "outputs": [
    {
     "name": "stdout",
     "output_type": "stream",
     "text": [
      "poolNN\n",
      "0.8314 0.26748315834833414\n",
      "0.5773999999999999 0.3801758014392815\n",
      "MMD\n",
      "1.0 0.0\n",
      "1.0 0.0\n",
      "DAG\n",
      "1.0 0.0\n",
      "1.0 0.0\n"
     ]
    }
   ],
   "source": [
    "num_rep = 10\n",
    "acc_best = np.zeros(num_rep)\n",
    "acc_final = np.zeros(num_rep)\n",
    "\n",
    "for i in range(num_rep):\n",
    "    file_name = '../weights/DatasetSimuDAG2/_tarId1_seed%d_idim4_DA_Poolnn_ML_m1_warmup200_MLP_Generator_MLP_Classifier_Diter1_AC_weight1.00_SRC_weight1.00_TAR_weight1.00_useMB1_G_mlp_nodes30_D_mlp_nodes30_bs200_Glr1.0e-02_Dlr1.0e-02_numDomain3_dimDomain1_dimHidden4_state.pkl' % (i)\n",
    "    x = torch.load(file_name)\n",
    "    acc_best[i] = x['best_score']\n",
    "    acc_final[i] = x['final_score']\n",
    "print('poolNN')\n",
    "print(acc_best.mean(), acc_best.std())\n",
    "print(acc_final.mean(), acc_final.std())\n",
    "\n",
    "for i in range(num_rep):\n",
    "    file_name = '../weights/DatasetSimuDAG2/_tarId1_seed%d_idim4_DA_Infer_JMMD_ML_m0_warmup0_MLP_Generator_MLP_Classifier_Diter1_AC_weight1.00_SRC_weight0.00_TAR_weight1.00_useMB1_G_mlp_nodes30_D_mlp_nodes30_bs200_Glr1.0e-02_Dlr1.0e-02_numDomain3_dimDomain1_dimHidden4_state.pkl' % (i)\n",
    "    x = torch.load(file_name)\n",
    "    acc_best[i] = x['best_score']\n",
    "    acc_final[i] = x['final_score']\n",
    "print('MMD')\n",
    "print(acc_best.mean(), acc_best.std())\n",
    "print(acc_final.mean(), acc_final.std())\n",
    "\n",
    "for i in range(num_rep):\n",
    "    file_name = '../weights/DatasetSimuDAG2/_tarId1_seed%d_idim4_DA_Infer_JMMD_DAG_ML_m0_warmup0_DAG_Generator_MLP_Classifier_Diter1_AC_weight1.00_SRC_weight0.00_TAR_weight1.00_useMB1_G_mlp_nodes30_D_mlp_nodes30_bs200_Glr1.0e-02_Dlr1.0e-02_numDomain3_dimDomain1_dimHidden1_state.pkl' % (i)\n",
    "    x = torch.load(file_name)\n",
    "    acc_best[i] = x['best_score']\n",
    "    acc_final[i] = x['final_score']\n",
    "print('DAG')\n",
    "print(acc_best.mean(), acc_best.std())\n",
    "print(acc_final.mean(), acc_final.std())"
   ]
  },
  {
   "cell_type": "code",
   "execution_count": 10,
   "metadata": {},
   "outputs": [
    {
     "name": "stdout",
     "output_type": "stream",
     "text": [
      "poolNN\n",
      "0.8652 0.16911581830213282\n",
      "0.6142 0.23396999807667648\n",
      "MMD\n",
      "1.0 0.0\n",
      "1.0 0.0\n",
      "DAG\n",
      "1.0 0.0\n",
      "1.0 0.0\n"
     ]
    }
   ],
   "source": [
    "num_rep = 10\n",
    "acc_best = np.zeros(num_rep)\n",
    "acc_final = np.zeros(num_rep)\n",
    "\n",
    "for i in range(num_rep):\n",
    "    file_name = '../weights/DatasetSimuDAG5/_tarId1_seed%d_idim4_DA_Poolnn_ML_m1_warmup200_MLP_Generator_MLP_Classifier_Diter1_AC_weight1.00_SRC_weight1.00_TAR_weight1.00_useMB1_G_mlp_nodes30_D_mlp_nodes30_bs200_Glr1.0e-02_Dlr1.0e-02_numDomain6_dimDomain1_dimHidden4_state.pkl' % (i)\n",
    "    x = torch.load(file_name)\n",
    "    acc_best[i] = x['best_score']\n",
    "    acc_final[i] = x['final_score']\n",
    "print('poolNN')\n",
    "print(acc_best.mean(), acc_best.std())\n",
    "print(acc_final.mean(), acc_final.std())\n",
    "\n",
    "for i in range(num_rep):\n",
    "    file_name = '../weights/DatasetSimuDAG5/_tarId1_seed%d_idim4_DA_Infer_JMMD_ML_m0_warmup0_MLP_Generator_MLP_Classifier_Diter1_AC_weight1.00_SRC_weight0.00_TAR_weight1.00_useMB1_G_mlp_nodes30_D_mlp_nodes30_bs200_Glr1.0e-02_Dlr1.0e-02_numDomain6_dimDomain1_dimHidden4_state.pkl' % (i)\n",
    "    x = torch.load(file_name)\n",
    "    acc_best[i] = x['best_score']\n",
    "    acc_final[i] = x['final_score']\n",
    "print('MMD')\n",
    "print(acc_best.mean(), acc_best.std())\n",
    "print(acc_final.mean(), acc_final.std())\n",
    "\n",
    "for i in range(num_rep):\n",
    "    file_name = '../weights/DatasetSimuDAG5/_tarId1_seed%d_idim4_DA_Infer_JMMD_DAG_ML_m0_warmup0_DAG_Generator_MLP_Classifier_Diter1_AC_weight1.00_SRC_weight0.00_TAR_weight1.00_useMB1_G_mlp_nodes30_D_mlp_nodes30_bs200_Glr1.0e-02_Dlr1.0e-02_numDomain6_dimDomain1_dimHidden1_state.pkl' % (i)\n",
    "    x = torch.load(file_name)\n",
    "    acc_best[i] = x['best_score']\n",
    "    acc_final[i] = x['final_score']\n",
    "print('DAG')\n",
    "print(acc_best.mean(), acc_best.std())\n",
    "print(acc_final.mean(), acc_final.std())"
   ]
  },
  {
   "cell_type": "code",
   "execution_count": 12,
   "metadata": {},
   "outputs": [
    {
     "name": "stdout",
     "output_type": "stream",
     "text": [
      "poolNN\n",
      "0.8938 0.10102851082738973\n",
      "0.4534000000000001 0.2600969819125166\n",
      "MMD\n",
      "1.0 0.0\n",
      "1.0 0.0\n",
      "DAG\n",
      "1.0 0.0\n",
      "1.0 0.0\n"
     ]
    }
   ],
   "source": [
    "num_rep = 10\n",
    "acc_best = np.zeros(num_rep)\n",
    "acc_final = np.zeros(num_rep)\n",
    "\n",
    "for i in range(num_rep):\n",
    "    file_name = '../weights/DatasetSimuDAG9/_tarId1_seed%d_idim4_DA_Poolnn_ML_m1_warmup200_MLP_Generator_MLP_Classifier_Diter1_AC_weight1.00_SRC_weight1.00_TAR_weight1.00_useMB1_G_mlp_nodes30_D_mlp_nodes30_bs200_Glr1.0e-02_Dlr1.0e-02_numDomain10_dimDomain1_dimHidden4_state.pkl' % (i)\n",
    "    x = torch.load(file_name)\n",
    "    acc_best[i] = x['best_score']\n",
    "    acc_final[i] = x['final_score']\n",
    "print('poolNN')\n",
    "print(acc_best.mean(), acc_best.std())\n",
    "print(acc_final.mean(), acc_final.std())\n",
    "\n",
    "for i in range(num_rep):\n",
    "    file_name = '../weights/DatasetSimuDAG9/_tarId1_seed%d_idim4_DA_Infer_JMMD_ML_m0_warmup0_MLP_Generator_MLP_Classifier_Diter1_AC_weight1.00_SRC_weight0.00_TAR_weight1.00_useMB1_G_mlp_nodes30_D_mlp_nodes30_bs200_Glr1.0e-02_Dlr1.0e-02_numDomain10_dimDomain1_dimHidden4_state.pkl' % (i)\n",
    "    x = torch.load(file_name)\n",
    "    acc_best[i] = x['best_score']\n",
    "    acc_final[i] = x['final_score']\n",
    "print('MMD')\n",
    "print(acc_best.mean(), acc_best.std())\n",
    "print(acc_final.mean(), acc_final.std())\n",
    "\n",
    "for i in range(num_rep):\n",
    "    file_name = '../weights/DatasetSimuDAG9/_tarId1_seed%d_idim4_DA_Infer_JMMD_DAG_ML_m0_warmup0_DAG_Generator_MLP_Classifier_Diter1_AC_weight1.00_SRC_weight0.00_TAR_weight1.00_useMB1_G_mlp_nodes30_D_mlp_nodes30_bs200_Glr1.0e-02_Dlr1.0e-02_numDomain10_dimDomain1_dimHidden1_state.pkl' % (i)\n",
    "    x = torch.load(file_name)\n",
    "    acc_best[i] = x['best_score']\n",
    "    acc_final[i] = x['final_score']\n",
    "print('DAG')\n",
    "print(acc_best.mean(), acc_best.std())\n",
    "print(acc_final.mean(), acc_final.std())"
   ]
  },
  {
   "cell_type": "code",
   "execution_count": null,
   "metadata": {},
   "outputs": [],
   "source": []
  }
 ],
 "metadata": {
  "kernelspec": {
   "display_name": "Python 3",
   "language": "python",
   "name": "python3"
  },
  "language_info": {
   "codemirror_mode": {
    "name": "ipython",
    "version": 3
   },
   "file_extension": ".py",
   "mimetype": "text/x-python",
   "name": "python",
   "nbconvert_exporter": "python",
   "pygments_lexer": "ipython3",
   "version": "3.7.7"
  }
 },
 "nbformat": 4,
 "nbformat_minor": 4
}
