{
 "cells": [
  {
   "cell_type": "markdown",
   "metadata": {},
   "source": [
    "# Summarize wifi results"
   ]
  },
  {
   "cell_type": "code",
   "execution_count": 5,
   "metadata": {},
   "outputs": [],
   "source": [
    "import torch\n",
    "import numpy as np\n",
    "import os\n",
    "import sys\n",
    "from os.path import join\n",
    "sys.path.append('../code')\n",
    "from models import DAG_Generator\n",
    "from sklearn.model_selection import cross_val_score\n",
    "from sklearn import svm\n",
    "import utils"
   ]
  },
  {
   "cell_type": "code",
   "execution_count": 6,
   "metadata": {},
   "outputs": [],
   "source": [
    "def svm_accuracy(file_state, file_gen):\n",
    "    \n",
    "    config = torch.load(file_state)\n",
    "    config = config['config']\n",
    "    # print(config)\n",
    "\n",
    "    input_dim = config['idim']\n",
    "    num_class = config['num_class']\n",
    "    num_domain = config['num_domain']\n",
    "    dim_class = config['dim_y']\n",
    "    dim_domain = config['dim_d']\n",
    "    dim_hidden = config['dim_z']\n",
    "    G_num_layer = config['G_mlp_layers']\n",
    "    G_num_nodes = config['G_mlp_nodes']\n",
    "    D_num_layer = config['D_mlp_layers']\n",
    "    D_num_nodes = config['D_mlp_nodes']\n",
    "    dag_mat_file = join(config['data_root'], config['dataset'], config['dag_mat_file'])\n",
    "#     print(dag_mat_file)\n",
    "    npzfile = np.load(dag_mat_file)\n",
    "    dag_mat = npzfile['mat']\n",
    "    isProb = config['estimate'] == 'Bayesian'\n",
    "    gen = DAG_Generator(input_dim, num_class, num_domain, dim_class, dim_domain, dim_hidden, G_num_layer,\n",
    "                                         G_num_nodes, False, dag_mat, prob=isProb)\n",
    "\n",
    "    batch_size = 100\n",
    "    device = 'cpu'\n",
    "    gen.load_state_dict(torch.load(file_gen, map_location=torch.device(device)))\n",
    "\n",
    "    label_d = torch.ones(batch_size*num_class) * (num_domain-1)\n",
    "    label_y = torch.ones(batch_size) * 0\n",
    "    for j in range(1, num_class):\n",
    "        label_y = torch.cat((label_y, torch.ones(batch_size) * j), 0)\n",
    "\n",
    "\n",
    "    if dim_hidden != 0:\n",
    "        noise = torch.randn((label_d.shape[0], dim_hidden * input_dim), device=device)\n",
    "\n",
    "    # create domain labels\n",
    "    y_a_onehot = torch.nn.functional.one_hot(label_y.long(), num_class).float()\n",
    "\n",
    "    d_onehot = torch.nn.functional.one_hot(label_d.long(), num_domain).float()\n",
    "\n",
    "    if config['estimate'] == 'ML':\n",
    "        fake_x = gen(noise, y_a_onehot, d_onehot, device=device)\n",
    "    elif config['estimate'] == 'Bayesian':\n",
    "        noise_d = torch.randn(num_domain, dim_domain * input_dim).to(device)\n",
    "        fake_x = gen(noise, y_a_onehot, d_onehot, device=device, noise_d=noise_d)\n",
    "\n",
    "    # train svm\n",
    "    gamma_range = [2**-1, 1]\n",
    "    C_range = [1, 10, 100]\n",
    "\n",
    "    scores = np.zeros((len(gamma_range), len(C_range)))\n",
    "    for i in range(len(gamma_range)):\n",
    "        for j in range(len(C_range)):\n",
    "            clf = svm.SVC(gamma=gamma_range[i], C=C_range[j])\n",
    "            scores[i, j] = cross_val_score(clf, fake_x.detach().numpy(), label_y, cv=5).mean()\n",
    "\n",
    "    (gamma_opt_id, C_opt_id) = np.unravel_index(np.argmax(scores), (len(gamma_range), len(C_range)))\n",
    "    clf = svm.SVC(gamma=gamma_range[gamma_opt_id], C=C_range[C_opt_id], probability=False)\n",
    "    clf.fit(fake_x.detach().numpy(), label_y.long())\n",
    "\n",
    "    # predict\n",
    "    test_dataset_specs = {'class_name': config['dataset'], 'seed': config['seed'], 'train': False,\n",
    "                              'root': join(config['data_root'], config['dataset']), 'num_train': config['num_train'],\n",
    "                              'num_domain': config['num_domain'], 'num_class': config['num_class'], 'dim': config['idim'],\n",
    "                              'dim_d': config['dim_d'], 'dag_mat_file': config['dag_mat_file'], 'useMB': config['useMB'],\n",
    "                              'tar_id': config['tar_id']}\n",
    "    test_loader = utils.get_data_loader(test_dataset_specs, batch_size, config['num_workers'])\n",
    "    x_t = test_loader.dataset.data\n",
    "    y_t = test_loader.dataset.labels[:,0] * 2.0 / 3\n",
    "    y_t = y_t.astype(int)\n",
    "    y_pred = clf.predict(x_t)\n",
    "    acc = sum(y_pred == y_t) * 1.0 / len(y_t)\n",
    "    return acc"
   ]
  },
  {
   "cell_type": "markdown",
   "metadata": {},
   "source": [
    "## tot1, NN classifier"
   ]
  },
  {
   "cell_type": "code",
   "execution_count": 7,
   "metadata": {},
   "outputs": [
    {
     "name": "stdout",
     "output_type": "stream",
     "text": [
      "poolNN\n",
      "best: 0.42319672212453535 0.01494919687697718\n",
      "final: 0.38116248660372004 0.014475586693897213\n",
      "JMM_DAG_Bayesian\n",
      "best: 0.7295189968249364 0.019355281798218014\n",
      "final: 0.7082111266920432 0.026974798323588053\n"
     ]
    }
   ],
   "source": [
    "num_rep = 10\n",
    "acc_best = np.zeros(num_rep)\n",
    "acc_final = np.zeros(num_rep)\n",
    "\n",
    "for i in range(num_rep):\n",
    "    file_name = '../weights/DatasetWifi_bk1/_tarId1_seed%d_idim17_DA_Poolnn_ML_m0_warmup200_MLP_Generator_MLP_Classifier_Diter1_AC_weight1.00_SRC_weight1.00_TAR_weight1.00_useMB1_G_mlp_nodes32_D_mlp_nodes64_bs210_Glr1.0e-02_Dlr1.0e-02_numDomain3_dimDomain1_dimHidden17_state.pkl' % (i+1)\n",
    "    x = torch.load(file_name)\n",
    "    acc_best[i] = x['best_score']\n",
    "    acc_final[i] = x['final_score']\n",
    "print('poolNN')\n",
    "print('best:', acc_best.mean(), acc_best.std())\n",
    "print('final:', acc_final.mean(), acc_final.std())\n",
    "\n",
    "for i in range(num_rep):\n",
    "    file_name = '../weights/DatasetWifi_bk1/_tarId1_seed%d_idim17_DA_Infer_JMMD_DAG_Bayesian_m0_warmup200_DAG_Generator_MLP_Classifier_Diter1_AC_weight1.00_SRC_weight0.00_TAR_weight1.00_useMB1_G_mlp_nodes32_D_mlp_nodes64_bs210_Glr1.0e-02_Dlr1.0e-02_numDomain3_dimDomain1_dimHidden1_state.pkl' % (i+1)\n",
    "    x = torch.load(file_name)\n",
    "    acc_best[i] = x['best_score']\n",
    "    acc_final[i] = x['final_score']\n",
    "print('JMM_DAG_Bayesian')\n",
    "print('best:', acc_best.mean(), acc_best.std())\n",
    "print('final:', acc_final.mean(), acc_final.std())"
   ]
  },
  {
   "cell_type": "markdown",
   "metadata": {},
   "source": [
    "## tot1, SVM classifier"
   ]
  },
  {
   "cell_type": "code",
   "execution_count": 8,
   "metadata": {},
   "outputs": [
    {
     "name": "stdout",
     "output_type": "stream",
     "text": [
      "dataset=DatasetWifi(conf)\n",
      "dataset=DatasetWifi(conf)\n",
      "dataset=DatasetWifi(conf)\n",
      "dataset=DatasetWifi(conf)\n",
      "dataset=DatasetWifi(conf)\n",
      "dataset=DatasetWifi(conf)\n",
      "dataset=DatasetWifi(conf)\n",
      "dataset=DatasetWifi(conf)\n",
      "dataset=DatasetWifi(conf)\n",
      "dataset=DatasetWifi(conf)\n",
      "JMM_DAG_Bayesian\n",
      "svm: 0.719475120557045 0.029362326412849065\n"
     ]
    }
   ],
   "source": [
    "num_rep = 10\n",
    "acc_best = np.zeros(num_rep)\n",
    "acc_final = np.zeros(num_rep)\n",
    "\n",
    "for i in range(num_rep):\n",
    "    file_state = '../weights/DatasetWifi_bk1/_tarId1_seed%d_idim17_DA_Infer_JMMD_DAG_Bayesian_m0_warmup200_DAG_Generator_MLP_Classifier_Diter1_AC_weight1.00_SRC_weight0.00_TAR_weight1.00_useMB1_G_mlp_nodes32_D_mlp_nodes64_bs210_Glr1.0e-02_Dlr1.0e-02_numDomain3_dimDomain1_dimHidden1_state.pkl' % (i+1)\n",
    "    file_gen = '../weights/DatasetWifi_bk1/_tarId1_seed%d_idim17_DA_Infer_JMMD_DAG_Bayesian_m0_warmup200_DAG_Generator_MLP_Classifier_Diter1_AC_weight1.00_SRC_weight0.00_TAR_weight1.00_useMB1_G_mlp_nodes32_D_mlp_nodes64_bs210_Glr1.0e-02_Dlr1.0e-02_numDomain3_dimDomain1_dimHidden1_gen.pkl' % (i+1)\n",
    "    acc_final[i] = svm_accuracy(file_state, file_gen)\n",
    "print('JMM_DAG_Bayesian')\n",
    "print('svm:', acc_final.mean(), acc_final.std())"
   ]
  },
  {
   "cell_type": "markdown",
   "metadata": {},
   "source": [
    "## tot2, NN classifier"
   ]
  },
  {
   "cell_type": "code",
   "execution_count": 9,
   "metadata": {},
   "outputs": [
    {
     "name": "stdout",
     "output_type": "stream",
     "text": [
      "poolNN\n",
      "best: 0.4970426585196625 0.008401184173918991\n",
      "final: 0.35117593842013084 0.022630607503720056\n",
      "JMM_DAG_Bayesian\n",
      "best: 0.8614325421818076 0.032772012329864285\n",
      "final: 0.8454058120789526 0.02851198670519482\n"
     ]
    }
   ],
   "source": [
    "num_rep = 10\n",
    "acc_best = np.zeros(num_rep)\n",
    "acc_final = np.zeros(num_rep)\n",
    "\n",
    "for i in range(num_rep):\n",
    "    file_name = '../weights/DatasetWifi_bk1/_tarId2_seed%d_idim16_DA_Poolnn_ML_m0_warmup200_MLP_Generator_MLP_Classifier_Diter1_AC_weight1.00_SRC_weight1.00_TAR_weight1.00_useMB1_G_mlp_nodes32_D_mlp_nodes64_bs210_Glr1.0e-02_Dlr1.0e-02_numDomain3_dimDomain1_dimHidden16_state.pkl' % (i+1)\n",
    "    x = torch.load(file_name)\n",
    "    acc_best[i] = x['best_score']\n",
    "    acc_final[i] = x['final_score']\n",
    "print('poolNN')\n",
    "print('best:', acc_best.mean(), acc_best.std())\n",
    "print('final:', acc_final.mean(), acc_final.std())\n",
    "\n",
    "# for i in range(num_rep):\n",
    "#     file_name = '../weights/DatasetWifi/_tarId2_seed%d_idim17_DA_Infer_JMMD_DAG_ML_m0_warmup200_DAG_Generator_MLP_Classifier_Diter1_AC_weight1.00_SRC_weight0.00_TAR_weight1.00_useMB1_G_mlp_nodes32_D_mlp_nodes100_bs210_Glr1.0e-02_Dlr1.0e-02_numDomain3_dimDomain1_dimHidden1_state.pkl' % (i+1)\n",
    "#     x = torch.load(file_name)\n",
    "#     acc_best[i] = x['best_score']\n",
    "#     acc_final[i] = x['final_score']\n",
    "# print('JMM_DAG_ML')\n",
    "# print('best:', acc_best.mean(), acc_best.std())\n",
    "# print('final:', acc_final.mean(), acc_final.std())\n",
    "\n",
    "for i in range(num_rep):\n",
    "    file_name = '../weights/DatasetWifi_bk1/_tarId2_seed%d_idim16_DA_Infer_JMMD_DAG_Bayesian_m0_warmup200_DAG_Generator_MLP_Classifier_Diter1_AC_weight1.00_SRC_weight0.00_TAR_weight1.00_useMB1_G_mlp_nodes32_D_mlp_nodes64_bs210_Glr1.0e-02_Dlr1.0e-02_numDomain3_dimDomain1_dimHidden1_state.pkl' % (i+1)\n",
    "    x = torch.load(file_name)\n",
    "    acc_best[i] = x['best_score']\n",
    "    acc_final[i] = x['final_score']\n",
    "print('JMM_DAG_Bayesian')\n",
    "print('best:', acc_best.mean(), acc_best.std())\n",
    "print('final:', acc_final.mean(), acc_final.std())"
   ]
  },
  {
   "cell_type": "markdown",
   "metadata": {},
   "source": [
    "## tot2, SVM classifier"
   ]
  },
  {
   "cell_type": "code",
   "execution_count": 10,
   "metadata": {},
   "outputs": [
    {
     "name": "stdout",
     "output_type": "stream",
     "text": [
      "dataset=DatasetWifi(conf)\n",
      "dataset=DatasetWifi(conf)\n",
      "dataset=DatasetWifi(conf)\n",
      "dataset=DatasetWifi(conf)\n",
      "dataset=DatasetWifi(conf)\n",
      "dataset=DatasetWifi(conf)\n",
      "dataset=DatasetWifi(conf)\n",
      "dataset=DatasetWifi(conf)\n",
      "dataset=DatasetWifi(conf)\n",
      "dataset=DatasetWifi(conf)\n",
      "JMM_DAG_Bayesian\n",
      "svm: 0.8359636973099981 0.024976460052476647\n"
     ]
    }
   ],
   "source": [
    "num_rep = 10\n",
    "acc_best = np.zeros(num_rep)\n",
    "acc_final = np.zeros(num_rep)\n",
    "\n",
    "for i in range(num_rep):\n",
    "    file_state = '../weights/DatasetWifi_bk1/_tarId2_seed%d_idim16_DA_Infer_JMMD_DAG_Bayesian_m0_warmup200_DAG_Generator_MLP_Classifier_Diter1_AC_weight1.00_SRC_weight0.00_TAR_weight1.00_useMB1_G_mlp_nodes32_D_mlp_nodes64_bs210_Glr1.0e-02_Dlr1.0e-02_numDomain3_dimDomain1_dimHidden1_state.pkl' % (i+1)\n",
    "    file_gen = '../weights/DatasetWifi_bk1/_tarId2_seed%d_idim16_DA_Infer_JMMD_DAG_Bayesian_m0_warmup200_DAG_Generator_MLP_Classifier_Diter1_AC_weight1.00_SRC_weight0.00_TAR_weight1.00_useMB1_G_mlp_nodes32_D_mlp_nodes64_bs210_Glr1.0e-02_Dlr1.0e-02_numDomain3_dimDomain1_dimHidden1_gen.pkl' % (i+1)\n",
    "    acc_final[i] = svm_accuracy(file_state, file_gen)\n",
    "print('JMM_DAG_Bayesian')\n",
    "print('svm:', acc_final.mean(), acc_final.std())"
   ]
  },
  {
   "cell_type": "markdown",
   "metadata": {},
   "source": [
    "## tot3, NN classifier"
   ]
  },
  {
   "cell_type": "code",
   "execution_count": 11,
   "metadata": {},
   "outputs": [
    {
     "name": "stdout",
     "output_type": "stream",
     "text": [
      "poolNN\n",
      "best: 0.416217690500864 0.021060729405462664\n",
      "final: 0.39562359616035814 0.02444649927241329\n",
      "JMM_DAG_Bayesian\n",
      "best: 0.8473169652978321 0.06787557367710828\n",
      "final: 0.8298888990973184 0.07294657755692738\n"
     ]
    }
   ],
   "source": [
    "num_rep = 10\n",
    "acc_best = np.zeros(num_rep)\n",
    "acc_final = np.zeros(num_rep)\n",
    "\n",
    "for i in range(num_rep):\n",
    "    file_name = '../weights/DatasetWifi_bk1/_tarId3_seed%d_idim16_DA_Poolnn_ML_m0_warmup200_MLP_Generator_MLP_Classifier_Diter1_AC_weight1.00_SRC_weight1.00_TAR_weight1.00_useMB1_G_mlp_nodes32_D_mlp_nodes64_bs210_Glr1.0e-02_Dlr1.0e-02_numDomain3_dimDomain1_dimHidden16_state.pkl' % (i+1)\n",
    "    x = torch.load(file_name)\n",
    "    acc_best[i] = x['best_score']\n",
    "    acc_final[i] = x['final_score']\n",
    "print('poolNN')\n",
    "print('best:', acc_best.mean(), acc_best.std())\n",
    "print('final:', acc_final.mean(), acc_final.std())\n",
    "\n",
    "\n",
    "for i in range(num_rep):\n",
    "    file_name = '../weights/DatasetWifi_bk1/_tarId3_seed%d_idim16_DA_Infer_JMMD_DAG_Bayesian_m0_warmup200_DAG_Generator_MLP_Classifier_Diter1_AC_weight1.00_SRC_weight0.00_TAR_weight1.00_useMB1_G_mlp_nodes32_D_mlp_nodes64_bs210_Glr1.0e-02_Dlr1.0e-02_numDomain3_dimDomain1_dimHidden1_state.pkl' % (i+1)\n",
    "    x = torch.load(file_name)\n",
    "    acc_best[i] = x['best_score']\n",
    "    acc_final[i] = x['final_score']\n",
    "print('JMM_DAG_Bayesian')\n",
    "print('best:', acc_best.mean(), acc_best.std())\n",
    "print('final:', acc_final.mean(), acc_final.std())"
   ]
  },
  {
   "cell_type": "markdown",
   "metadata": {},
   "source": [
    "## tot3, SVM classifier"
   ]
  },
  {
   "cell_type": "code",
   "execution_count": 12,
   "metadata": {},
   "outputs": [
    {
     "name": "stdout",
     "output_type": "stream",
     "text": [
      "dataset=DatasetWifi(conf)\n",
      "dataset=DatasetWifi(conf)\n",
      "dataset=DatasetWifi(conf)\n",
      "dataset=DatasetWifi(conf)\n",
      "dataset=DatasetWifi(conf)\n",
      "dataset=DatasetWifi(conf)\n",
      "dataset=DatasetWifi(conf)\n",
      "dataset=DatasetWifi(conf)\n",
      "dataset=DatasetWifi(conf)\n",
      "dataset=DatasetWifi(conf)\n",
      "JMM_DAG_Bayesian\n",
      "svm: 0.8374313026664192 0.06651531861687349\n"
     ]
    }
   ],
   "source": [
    "num_rep = 10\n",
    "acc_best = np.zeros(num_rep)\n",
    "acc_final = np.zeros(num_rep)\n",
    "\n",
    "for i in range(num_rep):\n",
    "    file_state = '../weights/DatasetWifi_bk1/_tarId3_seed%d_idim16_DA_Infer_JMMD_DAG_Bayesian_m0_warmup200_DAG_Generator_MLP_Classifier_Diter1_AC_weight1.00_SRC_weight0.00_TAR_weight1.00_useMB1_G_mlp_nodes32_D_mlp_nodes64_bs210_Glr1.0e-02_Dlr1.0e-02_numDomain3_dimDomain1_dimHidden1_state.pkl' % (i+1)\n",
    "    file_gen = '../weights/DatasetWifi_bk1/_tarId3_seed%d_idim16_DA_Infer_JMMD_DAG_Bayesian_m0_warmup200_DAG_Generator_MLP_Classifier_Diter1_AC_weight1.00_SRC_weight0.00_TAR_weight1.00_useMB1_G_mlp_nodes32_D_mlp_nodes64_bs210_Glr1.0e-02_Dlr1.0e-02_numDomain3_dimDomain1_dimHidden1_gen.pkl' % (i+1)\n",
    "    acc_final[i] = svm_accuracy(file_state, file_gen)\n",
    "print('JMM_DAG_Bayesian')\n",
    "print('svm:', acc_final.mean(), acc_final.std())"
   ]
  }
 ],
 "metadata": {
  "kernelspec": {
   "display_name": "Python 3",
   "language": "python",
   "name": "python3"
  },
  "language_info": {
   "codemirror_mode": {
    "name": "ipython",
    "version": 3
   },
   "file_extension": ".py",
   "mimetype": "text/x-python",
   "name": "python",
   "nbconvert_exporter": "python",
   "pygments_lexer": "ipython3",
   "version": "3.8.3"
  }
 },
 "nbformat": 4,
 "nbformat_minor": 4
}
