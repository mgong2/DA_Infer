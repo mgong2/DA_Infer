{
 "cells": [
  {
   "cell_type": "markdown",
   "metadata": {},
   "source": [
    "# Summarize wifi results"
   ]
  },
  {
   "cell_type": "code",
   "execution_count": 3,
   "metadata": {},
   "outputs": [],
   "source": [
    "import torch\n",
    "import numpy as np"
   ]
  },
  {
   "cell_type": "markdown",
   "metadata": {},
   "source": [
    "tot1"
   ]
  },
  {
   "cell_type": "code",
   "execution_count": 6,
   "metadata": {},
   "outputs": [
    {
     "name": "stdout",
     "output_type": "stream",
     "text": [
      "poolNN\n",
      "0.4287527460217673 0.015188076610699252\n",
      "0.3875593764422563 0.019869576486573788\n",
      "JMMD\n",
      "0.33978789179753316 0.052078481027488355\n",
      "0.3025196442467646 0.06073732297071189\n",
      "JMM_DAG\n",
      "0.33978789179753316 0.052078481027488355\n",
      "0.3025196442467646 0.06073732297071189\n"
     ]
    }
   ],
   "source": [
    "num_rep = 10\n",
    "acc_best = np.zeros(num_rep)\n",
    "acc_final = np.zeros(num_rep)\n",
    "\n",
    "for i in range(num_rep):\n",
    "    file_name = '../weights/DatasetWifi/_tarId1_seed%d_idim17_DA_Poolnn_ML_m1_warmup200_MLP_Generator_MLP_Classifier_Diter1_AC_weight1.00_SRC_weight1.00_TAR_weight1.00_useMB1_G_mlp_nodes30_D_mlp_nodes100_bs210_Glr1.0e-02_Dlr1.0e-02_numDomain3_dimDomain1_dimHidden17_state.pkl' % (i+1)\n",
    "    x = torch.load(file_name)\n",
    "    acc_best[i] = x['best_score']\n",
    "    acc_final[i] = x['final_score']\n",
    "print('poolNN')\n",
    "print(acc_best.mean(), acc_best.std())\n",
    "print(acc_final.mean(), acc_final.std())\n",
    "\n",
    "for i in range(num_rep):\n",
    "    file_name = '../weights/DatasetWifi/_tarId1_seed%d_idim17_DA_Infer_JMMD_DAG_ML_m0_warmup0_DAG_Generator_MLP_Classifier_Diter1_AC_weight1.00_SRC_weight0.00_TAR_weight1.00_useMB1_G_mlp_nodes30_D_mlp_nodes100_bs210_Glr1.0e-02_Dlr1.0e-02_numDomain3_dimDomain1_dimHidden1_state.pkl' % (i+1)\n",
    "    x = torch.load(file_name)\n",
    "    acc_best[i] = x['best_score']\n",
    "    acc_final[i] = x['final_score']\n",
    "print('JMMD')\n",
    "print(acc_best.mean(), acc_best.std())\n",
    "print(acc_final.mean(), acc_final.std())\n",
    "\n",
    "for i in range(num_rep):\n",
    "    file_name = '../weights/DatasetWifi/_tarId1_seed%d_idim17_DA_Infer_JMMD_DAG_ML_m0_warmup0_DAG_Generator_MLP_Classifier_Diter1_AC_weight1.00_SRC_weight0.00_TAR_weight1.00_useMB1_G_mlp_nodes30_D_mlp_nodes100_bs210_Glr1.0e-02_Dlr1.0e-02_numDomain3_dimDomain1_dimHidden1_state.pkl' % (i+1)\n",
    "    x = torch.load(file_name)\n",
    "    acc_best[i] = x['best_score']\n",
    "    acc_final[i] = x['final_score']\n",
    "print('JMM_DAG')\n",
    "print(acc_best.mean(), acc_best.std())\n",
    "print(acc_final.mean(), acc_final.std())"
   ]
  },
  {
   "cell_type": "markdown",
   "metadata": {},
   "source": [
    "tot2"
   ]
  },
  {
   "cell_type": "code",
   "execution_count": 7,
   "metadata": {},
   "outputs": [
    {
     "name": "stdout",
     "output_type": "stream",
     "text": [
      "poolNN\n",
      "0.4741398762678341 0.021408048494923625\n",
      "0.35202236786573393 0.021863913684447314\n",
      "JMMD\n",
      "0.46581105312552246 0.022427004056705516\n",
      "0.3910094436107283 0.034310965949555745\n",
      "JMMD_DAG\n",
      "0.38186793986977197 0.043695574928027316\n",
      "0.33634809548286754 0.04744518618170376\n"
     ]
    }
   ],
   "source": [
    "num_rep = 10\n",
    "acc_best = np.zeros(num_rep)\n",
    "acc_final = np.zeros(num_rep)\n",
    "\n",
    "for i in range(num_rep):\n",
    "    file_name = '../weights/DatasetWifi/_tarId2_seed%d_idim17_DA_Poolnn_ML_m1_warmup200_MLP_Generator_MLP_Classifier_Diter1_AC_weight1.00_SRC_weight1.00_TAR_weight1.00_useMB1_G_mlp_nodes30_D_mlp_nodes100_bs210_Glr1.0e-02_Dlr1.0e-02_numDomain3_dimDomain1_dimHidden17_state.pkl' % (i+1)\n",
    "    x = torch.load(file_name)\n",
    "    acc_best[i] = x['best_score']\n",
    "    acc_final[i] = x['final_score']\n",
    "print('poolNN')\n",
    "print(acc_best.mean(), acc_best.std())\n",
    "print(acc_final.mean(), acc_final.std())\n",
    "\n",
    "for i in range(num_rep):\n",
    "    file_name = '../weights/DatasetWifi/_tarId2_seed%d_idim16_DA_Infer_JMMD_ML_m0_warmup0_MLP_Generator_MLP_Classifier_Diter1_AC_weight1.00_SRC_weight0.00_TAR_weight1.00_useMB1_G_mlp_nodes100_D_mlp_nodes100_bs210_Glr1.0e-02_Dlr1.0e-02_numDomain3_dimDomain1_dimHidden16_state.pkl' % (i+1)\n",
    "    x = torch.load(file_name)\n",
    "    acc_best[i] = x['best_score']\n",
    "    acc_final[i] = x['final_score']\n",
    "print('JMMD')\n",
    "print(acc_best.mean(), acc_best.std())\n",
    "print(acc_final.mean(), acc_final.std())\n",
    "\n",
    "for i in range(num_rep):\n",
    "    file_name = '../weights/DatasetWifi/_tarId2_seed%d_idim16_DA_Infer_JMMD_DAG_ML_m0_warmup0_DAG_Generator_MLP_Classifier_Diter1_AC_weight1.00_SRC_weight0.00_TAR_weight1.00_useMB1_G_mlp_nodes30_D_mlp_nodes100_bs210_Glr1.0e-02_Dlr1.0e-02_numDomain3_dimDomain1_dimHidden1_state.pkl' % (i+1)\n",
    "    x = torch.load(file_name)\n",
    "    acc_best[i] = x['best_score']\n",
    "    acc_final[i] = x['final_score']\n",
    "print('JMMD_DAG')\n",
    "print(acc_best.mean(), acc_best.std())\n",
    "print(acc_final.mean(), acc_final.std())\n"
   ]
  },
  {
   "cell_type": "markdown",
   "metadata": {},
   "source": [
    "tot3"
   ]
  },
  {
   "cell_type": "code",
   "execution_count": 8,
   "metadata": {},
   "outputs": [
    {
     "name": "stdout",
     "output_type": "stream",
     "text": [
      "poolNN\n",
      "0.4100031810019006 0.01785806405210129\n",
      "0.3821726372986006 0.021170482218634983\n",
      "JMMD\n",
      "0.4859402642617444 0.03747458780388897\n",
      "0.3886251194393397 0.05730180677276111\n",
      "JMMD_DAG\n",
      "0.5031347700360874 0.09641148487787964\n",
      "0.4448007730305842 0.08257510434456099\n"
     ]
    }
   ],
   "source": [
    "num_rep = 10\n",
    "acc_best = np.zeros(num_rep)\n",
    "acc_final = np.zeros(num_rep)\n",
    "\n",
    "for i in range(num_rep):\n",
    "    file_name = '../weights/DatasetWifi/_tarId3_seed%d_idim17_DA_Poolnn_ML_m1_warmup200_MLP_Generator_MLP_Classifier_Diter1_AC_weight1.00_SRC_weight1.00_TAR_weight1.00_useMB1_G_mlp_nodes30_D_mlp_nodes100_bs210_Glr1.0e-02_Dlr1.0e-02_numDomain3_dimDomain1_dimHidden17_state.pkl' % (i+1)\n",
    "    x = torch.load(file_name)\n",
    "    acc_best[i] = x['best_score']\n",
    "    acc_final[i] = x['final_score']\n",
    "print('poolNN')\n",
    "print(acc_best.mean(), acc_best.std())\n",
    "print(acc_final.mean(), acc_final.std())\n",
    "\n",
    "for i in range(num_rep):\n",
    "    file_name = '../weights/DatasetWifi/_tarId3_seed%d_idim16_DA_Infer_JMMD_ML_m0_warmup0_MLP_Generator_MLP_Classifier_Diter1_AC_weight1.00_SRC_weight0.00_TAR_weight1.00_useMB1_G_mlp_nodes100_D_mlp_nodes100_bs210_Glr1.0e-02_Dlr1.0e-02_numDomain3_dimDomain1_dimHidden16_state.pkl' % (i+1)\n",
    "    x = torch.load(file_name)\n",
    "    acc_best[i] = x['best_score']\n",
    "    acc_final[i] = x['final_score']\n",
    "print('JMMD')\n",
    "print(acc_best.mean(), acc_best.std())\n",
    "print(acc_final.mean(), acc_final.std())\n",
    "\n",
    "for i in range(num_rep):\n",
    "    file_name = '../weights/DatasetWifi/_tarId3_seed%d_idim16_DA_Infer_JMMD_DAG_ML_m0_warmup0_DAG_Generator_MLP_Classifier_Diter1_AC_weight1.00_SRC_weight0.00_TAR_weight1.00_useMB1_G_mlp_nodes30_D_mlp_nodes100_bs210_Glr1.0e-02_Dlr1.0e-02_numDomain3_dimDomain1_dimHidden1_state.pkl' % (i+1)\n",
    "    x = torch.load(file_name)\n",
    "    acc_best[i] = x['best_score']\n",
    "    acc_final[i] = x['final_score']\n",
    "print('JMMD_DAG')\n",
    "print(acc_best.mean(), acc_best.std())\n",
    "print(acc_final.mean(), acc_final.std())\n"
   ]
  }
 ],
 "metadata": {
  "kernelspec": {
   "display_name": "Python 3",
   "language": "python",
   "name": "python3"
  },
  "language_info": {
   "codemirror_mode": {
    "name": "ipython",
    "version": 3
   },
   "file_extension": ".py",
   "mimetype": "text/x-python",
   "name": "python",
   "nbconvert_exporter": "python",
   "pygments_lexer": "ipython3",
   "version": "3.7.7"
  }
 },
 "nbformat": 4,
 "nbformat_minor": 4
}
